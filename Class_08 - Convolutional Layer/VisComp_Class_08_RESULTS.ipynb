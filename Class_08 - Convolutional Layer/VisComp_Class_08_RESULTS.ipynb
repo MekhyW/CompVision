{
  "cells": [
    {
      "cell_type": "markdown",
      "metadata": {
        "id": "ldormuK39mU1"
      },
      "source": [
        "# Class 8: The Scale Space and Convolutional Layers"
      ]
    },
    {
      "cell_type": "markdown",
      "metadata": {
        "id": "Ot_LD8I8AOQ6"
      },
      "source": [
        "## Preliminaries"
      ]
    },
    {
      "cell_type": "markdown",
      "metadata": {
        "id": "jrA0L5tPd_aG"
      },
      "source": [
        "Run the cell below to download the course library."
      ]
    },
    {
      "cell_type": "code",
      "execution_count": null,
      "metadata": {
        "colab": {
          "base_uri": "https://localhost:8080/",
          "height": 127
        },
        "id": "fMqO3xXod_fM",
        "outputId": "0076c3cb-d4f4-4d32-c197-57a7b99ab38d"
      },
      "outputs": [
        {
          "name": "stderr",
          "output_type": "stream",
          "text": [
            "Downloading...\n",
            "From (original): https://drive.google.com/uc?id=1SzvuBYIZ407c9eOChXD48NG94v7azJby\n",
            "From (redirected): https://drive.google.com/uc?id=1SzvuBYIZ407c9eOChXD48NG94v7azJby&confirm=t&uuid=f756aeee-2a31-4048-9ee8-c3d9c1d59622\n",
            "To: /content/sdx.py\n",
            "100%|██████████| 2.83k/2.83k [00:00<00:00, 4.03MB/s]\n"
          ]
        },
        {
          "data": {
            "application/vnd.google.colaboratory.intrinsic+json": {
              "type": "string"
            },
            "text/plain": [
              "'sdx.py'"
            ]
          },
          "execution_count": 2,
          "metadata": {},
          "output_type": "execute_result"
        }
      ],
      "source": [
        "import gdown\n",
        "\n",
        "gdown.download(id='1SzvuBYIZ407c9eOChXD48NG94v7azJby')"
      ]
    },
    {
      "cell_type": "markdown",
      "metadata": {
        "id": "qLYdrANx9t0n"
      },
      "source": [
        "Run the cell below to import the class modules.\n",
        "\n",
        "If you get import warnings, try using **`Ctrl+M .`** to restart the kernel. *(notice there is a dot there)*"
      ]
    },
    {
      "cell_type": "code",
      "execution_count": null,
      "metadata": {
        "id": "x3QrEMEhje9z"
      },
      "outputs": [],
      "source": [
        "from tensorflow import keras\n",
        "from sdx import *"
      ]
    },
    {
      "cell_type": "markdown",
      "metadata": {
        "id": "3ZG8DhOSj3Pe"
      },
      "source": [
        "## Loading the training and testing data"
      ]
    },
    {
      "cell_type": "markdown",
      "metadata": {
        "id": "QopzKv3ZkGuJ"
      },
      "source": [
        "We will use the [MNIST dataset](http://yann.lecun.com/exdb/mnist/) again, but probably for the last time."
      ]
    },
    {
      "cell_type": "code",
      "execution_count": null,
      "metadata": {
        "colab": {
          "base_uri": "https://localhost:8080/"
        },
        "id": "Y-TeDhsQj3TO",
        "outputId": "c1316e1b-1f67-47bd-d85c-03b625d82ea5"
      },
      "outputs": [
        {
          "name": "stdout",
          "output_type": "stream",
          "text": [
            "Downloading data from https://storage.googleapis.com/tensorflow/tf-keras-datasets/mnist.npz\n",
            "11490434/11490434 [==============================] - 0s 0us/step\n"
          ]
        }
      ],
      "source": [
        "(train_images, train_labels), (test_images, test_labels) = keras.datasets.mnist.load_data()"
      ]
    },
    {
      "cell_type": "markdown",
      "metadata": {
        "id": "5aD5xn2Aj3uL"
      },
      "source": [
        "## Convenience functions"
      ]
    },
    {
      "cell_type": "markdown",
      "metadata": {
        "id": "HyGKJSJ4wHnF"
      },
      "source": [
        "Since we will use the same training parameters for all networks, we will define some functions to avoid repetition."
      ]
    },
    {
      "cell_type": "code",
      "execution_count": null,
      "metadata": {
        "id": "n23VWeqX0lfa"
      },
      "outputs": [],
      "source": [
        "def compile_and_summary(model):\n",
        "    model.compile(\n",
        "        loss=keras.losses.SparseCategoricalCrossentropy(from_logits=True),\n",
        "    )\n",
        "    model.summary()"
      ]
    },
    {
      "cell_type": "code",
      "execution_count": null,
      "metadata": {
        "id": "hx6TH8Jw0lUF"
      },
      "outputs": [],
      "source": [
        "def fit_default_parameters(model):\n",
        "    history = model.fit(\n",
        "        train_images, train_labels,\n",
        "        epochs=32,\n",
        "        batch_size=32,\n",
        "        validation_data=(test_images, test_labels),\n",
        "    )\n",
        "    return history"
      ]
    },
    {
      "cell_type": "markdown",
      "metadata": {
        "id": "_6_kArXWj4BA"
      },
      "source": [
        "## Revisiting the single dense layer neural network"
      ]
    },
    {
      "cell_type": "markdown",
      "metadata": {
        "id": "eLM2bkWNvEtI"
      },
      "source": [
        "Back in Class 5, this network had the best overall results, since adding the `activation='relu'` parameter resulted in a smaller loss but also led to overfitting. So we will start with this network as benchmark."
      ]
    },
    {
      "cell_type": "code",
      "execution_count": null,
      "metadata": {
        "colab": {
          "base_uri": "https://localhost:8080/"
        },
        "id": "ar2zWF0l_hZt",
        "outputId": "afffed7a-f4aa-4fd3-af31-4e7cf65cfe04"
      },
      "outputs": [
        {
          "name": "stdout",
          "output_type": "stream",
          "text": [
            "Model: \"sequential\"\n",
            "_________________________________________________________________\n",
            " Layer (type)                Output Shape              Param #   \n",
            "=================================================================\n",
            " flatten (Flatten)           (None, 784)               0         \n",
            "                                                                 \n",
            " dense (Dense)               (None, 397)               311645    \n",
            "                                                                 \n",
            " dense_1 (Dense)             (None, 10)                3980      \n",
            "                                                                 \n",
            "=================================================================\n",
            "Total params: 315625 (1.20 MB)\n",
            "Trainable params: 315625 (1.20 MB)\n",
            "Non-trainable params: 0 (0.00 Byte)\n",
            "_________________________________________________________________\n"
          ]
        }
      ],
      "source": [
        "model = keras.Sequential([\n",
        "    keras.layers.Input(shape=(28, 28, 1)),\n",
        "    keras.layers.Flatten(),\n",
        "    keras.layers.Dense(397),\n",
        "    keras.layers.Dense(10),\n",
        "])\n",
        "\n",
        "compile_and_summary(model)"
      ]
    },
    {
      "cell_type": "code",
      "execution_count": null,
      "metadata": {
        "colab": {
          "base_uri": "https://localhost:8080/",
          "height": 1000
        },
        "id": "NSP79w0vLDKr",
        "outputId": "01cfffc1-54eb-43d0-95be-16b7addf5bc8"
      },
      "outputs": [
        {
          "name": "stdout",
          "output_type": "stream",
          "text": [
            "Epoch 1/32\n",
            "1875/1875 [==============================] - 13s 7ms/step - loss: 23.4919 - val_loss: 9.4460\n",
            "Epoch 2/32\n",
            "1875/1875 [==============================] - 12s 6ms/step - loss: 4.9195 - val_loss: 3.7331\n",
            "Epoch 3/32\n",
            "1875/1875 [==============================] - 13s 7ms/step - loss: 4.0895 - val_loss: 3.7741\n",
            "Epoch 4/32\n",
            "1875/1875 [==============================] - 13s 7ms/step - loss: 3.8541 - val_loss: 3.5539\n",
            "Epoch 5/32\n",
            "1875/1875 [==============================] - 12s 7ms/step - loss: 3.8175 - val_loss: 3.7647\n",
            "Epoch 6/32\n",
            "1875/1875 [==============================] - 12s 6ms/step - loss: 3.7817 - val_loss: 3.3322\n",
            "Epoch 7/32\n",
            "1875/1875 [==============================] - 12s 7ms/step - loss: 3.6920 - val_loss: 3.2120\n",
            "Epoch 8/32\n",
            "1875/1875 [==============================] - 12s 7ms/step - loss: 3.6903 - val_loss: 3.8573\n",
            "Epoch 9/32\n",
            "1875/1875 [==============================] - 13s 7ms/step - loss: 3.6568 - val_loss: 3.0855\n",
            "Epoch 10/32\n",
            "1875/1875 [==============================] - 13s 7ms/step - loss: 3.7023 - val_loss: 3.7310\n",
            "Epoch 11/32\n",
            "1875/1875 [==============================] - 12s 6ms/step - loss: 3.6552 - val_loss: 4.2052\n",
            "Epoch 12/32\n",
            "1875/1875 [==============================] - 13s 7ms/step - loss: 3.7001 - val_loss: 2.6889\n",
            "Epoch 13/32\n",
            "1875/1875 [==============================] - 12s 7ms/step - loss: 3.6545 - val_loss: 3.9755\n",
            "Epoch 14/32\n",
            "1875/1875 [==============================] - 13s 7ms/step - loss: 3.6907 - val_loss: 4.1051\n",
            "Epoch 15/32\n",
            "1875/1875 [==============================] - 13s 7ms/step - loss: 3.6813 - val_loss: 3.9604\n",
            "Epoch 16/32\n",
            "1875/1875 [==============================] - 13s 7ms/step - loss: 3.6742 - val_loss: 3.5398\n",
            "Epoch 17/32\n",
            "1875/1875 [==============================] - 12s 6ms/step - loss: 3.7020 - val_loss: 3.4317\n",
            "Epoch 18/32\n",
            "1875/1875 [==============================] - 12s 6ms/step - loss: 3.6911 - val_loss: 5.1899\n",
            "Epoch 19/32\n",
            "1875/1875 [==============================] - 12s 6ms/step - loss: 3.6400 - val_loss: 3.0856\n",
            "Epoch 20/32\n",
            "1875/1875 [==============================] - 12s 6ms/step - loss: 3.6928 - val_loss: 3.5537\n",
            "Epoch 21/32\n",
            "1875/1875 [==============================] - 12s 6ms/step - loss: 3.6951 - val_loss: 3.5679\n",
            "Epoch 22/32\n",
            "1875/1875 [==============================] - 12s 6ms/step - loss: 3.6846 - val_loss: 3.4539\n",
            "Epoch 23/32\n",
            "1875/1875 [==============================] - 12s 6ms/step - loss: 3.7146 - val_loss: 2.9974\n",
            "Epoch 24/32\n",
            "1875/1875 [==============================] - 11s 6ms/step - loss: 3.6721 - val_loss: 4.3032\n",
            "Epoch 25/32\n",
            "1875/1875 [==============================] - 12s 6ms/step - loss: 3.7731 - val_loss: 3.6615\n",
            "Epoch 26/32\n",
            "1875/1875 [==============================] - 12s 6ms/step - loss: 3.7483 - val_loss: 4.5503\n",
            "Epoch 27/32\n",
            "1875/1875 [==============================] - 12s 6ms/step - loss: 3.7197 - val_loss: 5.0677\n",
            "Epoch 28/32\n",
            "1875/1875 [==============================] - 11s 6ms/step - loss: 3.7235 - val_loss: 4.5458\n",
            "Epoch 29/32\n",
            "1875/1875 [==============================] - 12s 6ms/step - loss: 3.7664 - val_loss: 3.9085\n",
            "Epoch 30/32\n",
            "1875/1875 [==============================] - 11s 6ms/step - loss: 3.7610 - val_loss: 4.0976\n",
            "Epoch 31/32\n",
            "1875/1875 [==============================] - 12s 6ms/step - loss: 3.7852 - val_loss: 6.5038\n",
            "Epoch 32/32\n",
            "1875/1875 [==============================] - 12s 6ms/step - loss: 3.7497 - val_loss: 3.9320\n"
          ]
        },
        {
          "data": {
            "image/png": "[encoded data removed]",
            "text/plain": [
              "<Figure size 640x480 with 1 Axes>"
            ]
          },
          "metadata": {},
          "output_type": "display_data"
        }
      ],
      "source": [
        "history = fit_default_parameters(model)\n",
        "\n",
        "plot_loss(history)"
      ]
    },
    {
      "cell_type": "markdown",
      "metadata": {
        "id": "R947q_ga4y7_"
      },
      "source": [
        "This is the smallest training loss we got, but we couldn't get rid of the oscillation in the testing loss."
      ]
    },
    {
      "cell_type": "markdown",
      "metadata": {
        "id": "WsMQZrth2l6B"
      },
      "source": [
        "## Replacing the dense layer with a convolutional layer"
      ]
    },
    {
      "cell_type": "markdown",
      "metadata": {
        "id": "3l5PaEGV2lzB"
      },
      "source": [
        "Instead of the dense layer, we will now use a convolutional layer with three $3 \\times 3$ filters.\n",
        "\n",
        "The idea is inspired by the scale space, which is based on convolving the image with multiple Gaussian kernels."
      ]
    },
    {
      "cell_type": "code",
      "execution_count": null,
      "metadata": {
        "colab": {
          "base_uri": "https://localhost:8080/"
        },
        "id": "C-f5-y_JG_fS",
        "outputId": "c5ca164e-0268-4afa-b638-cbc69ce16554"
      },
      "outputs": [
        {
          "name": "stdout",
          "output_type": "stream",
          "text": [
            "Model: \"sequential_1\"\n",
            "_________________________________________________________________\n",
            " Layer (type)                Output Shape              Param #   \n",
            "=================================================================\n",
            " conv2d (Conv2D)             (None, 26, 26, 3)         30        \n",
            "                                                                 \n",
            " flatten_1 (Flatten)         (None, 2028)              0         \n",
            "                                                                 \n",
            " dense_2 (Dense)             (None, 10)                20290     \n",
            "                                                                 \n",
            "=================================================================\n",
            "Total params: 20320 (79.38 KB)\n",
            "Trainable params: 20320 (79.38 KB)\n",
            "Non-trainable params: 0 (0.00 Byte)\n",
            "_________________________________________________________________\n"
          ]
        }
      ],
      "source": [
        "model = keras.Sequential([\n",
        "    keras.layers.Input(shape=(28, 28, 1)),\n",
        "    keras.layers.Conv2D(3, (3, 3)),\n",
        "    keras.layers.Flatten(),\n",
        "    keras.layers.Dense(10),\n",
        "])\n",
        "\n",
        "compile_and_summary(model)"
      ]
    },
    {
      "cell_type": "markdown",
      "metadata": {
        "id": "h_aEJNTc3bjy"
      },
      "source": [
        "The size of the output tensor is $26 \\times 26 \\times 3$, since the borders are ignored and there are three filters.\n",
        "\n",
        "The number of parameters in the convolutional layer is $30$: for each of the three filters, there are $3 \\times 3$ weights and one bias."
      ]
    },
    {
      "cell_type": "code",
      "execution_count": null,
      "metadata": {
        "colab": {
          "base_uri": "https://localhost:8080/",
          "height": 1000
        },
        "id": "8mmsKX2iG_YK",
        "outputId": "65c78f45-a891-4f53-a947-1abf157a6a76"
      },
      "outputs": [
        {
          "name": "stdout",
          "output_type": "stream",
          "text": [
            "Epoch 1/32\n",
            "1875/1875 [==============================] - 15s 8ms/step - loss: 3.6942 - val_loss: 1.3106\n",
            "Epoch 2/32\n",
            "1875/1875 [==============================] - 14s 8ms/step - loss: 0.7728 - val_loss: 0.5241\n",
            "Epoch 3/32\n",
            "1875/1875 [==============================] - 14s 8ms/step - loss: 0.4665 - val_loss: 0.3414\n",
            "Epoch 4/32\n",
            "1875/1875 [==============================] - 14s 7ms/step - loss: 0.4143 - val_loss: 0.4872\n",
            "Epoch 5/32\n",
            "1875/1875 [==============================] - 14s 7ms/step - loss: 0.4000 - val_loss: 0.3777\n",
            "Epoch 6/32\n",
            "1875/1875 [==============================] - 14s 7ms/step - loss: 0.3927 - val_loss: 0.9272\n",
            "Epoch 7/32\n",
            "1875/1875 [==============================] - 14s 7ms/step - loss: 0.3989 - val_loss: 0.3801\n",
            "Epoch 8/32\n",
            "1875/1875 [==============================] - 15s 8ms/step - loss: 0.3924 - val_loss: 0.5005\n",
            "Epoch 9/32\n",
            "1875/1875 [==============================] - 14s 8ms/step - loss: 0.3950 - val_loss: 0.4913\n",
            "Epoch 10/32\n",
            "1875/1875 [==============================] - 14s 7ms/step - loss: 0.3912 - val_loss: 0.5592\n",
            "Epoch 11/32\n",
            "1875/1875 [==============================] - 14s 8ms/step - loss: 0.4011 - val_loss: 0.3371\n",
            "Epoch 12/32\n",
            "1875/1875 [==============================] - 14s 7ms/step - loss: 0.3980 - val_loss: 0.4389\n",
            "Epoch 13/32\n",
            "1875/1875 [==============================] - 14s 7ms/step - loss: 0.3967 - val_loss: 0.4317\n",
            "Epoch 14/32\n",
            "1875/1875 [==============================] - 14s 8ms/step - loss: 0.3901 - val_loss: 0.3644\n",
            "Epoch 15/32\n",
            "1875/1875 [==============================] - 15s 8ms/step - loss: 0.3965 - val_loss: 0.4421\n",
            "Epoch 16/32\n",
            "1875/1875 [==============================] - 16s 9ms/step - loss: 0.3990 - val_loss: 0.4855\n",
            "Epoch 17/32\n",
            "1875/1875 [==============================] - 14s 8ms/step - loss: 0.3911 - val_loss: 0.4749\n",
            "Epoch 18/32\n",
            "1875/1875 [==============================] - 14s 7ms/step - loss: 0.3922 - val_loss: 0.3836\n",
            "Epoch 19/32\n",
            "1875/1875 [==============================] - 15s 8ms/step - loss: 0.3942 - val_loss: 0.3614\n",
            "Epoch 20/32\n",
            "1875/1875 [==============================] - 15s 8ms/step - loss: 0.4007 - val_loss: 0.3467\n",
            "Epoch 21/32\n",
            "1875/1875 [==============================] - 14s 8ms/step - loss: 0.3965 - val_loss: 0.5662\n",
            "Epoch 22/32\n",
            "1875/1875 [==============================] - 16s 8ms/step - loss: 0.3926 - val_loss: 0.4122\n",
            "Epoch 23/32\n",
            "1875/1875 [==============================] - 14s 8ms/step - loss: 0.3919 - val_loss: 0.5066\n",
            "Epoch 24/32\n",
            "1875/1875 [==============================] - 14s 8ms/step - loss: 0.3955 - val_loss: 0.3617\n",
            "Epoch 25/32\n",
            "1875/1875 [==============================] - 14s 8ms/step - loss: 0.4005 - val_loss: 0.3972\n",
            "Epoch 26/32\n",
            "1875/1875 [==============================] - 14s 7ms/step - loss: 0.3945 - val_loss: 0.5039\n",
            "Epoch 27/32\n",
            "1875/1875 [==============================] - 14s 8ms/step - loss: 0.4039 - val_loss: 0.4727\n",
            "Epoch 28/32\n",
            "1875/1875 [==============================] - 14s 8ms/step - loss: 0.4113 - val_loss: 0.3496\n",
            "Epoch 29/32\n",
            "1875/1875 [==============================] - 14s 8ms/step - loss: 0.3962 - val_loss: 0.4493\n",
            "Epoch 30/32\n",
            "1875/1875 [==============================] - 15s 8ms/step - loss: 0.3962 - val_loss: 0.4715\n",
            "Epoch 31/32\n",
            "1875/1875 [==============================] - 14s 8ms/step - loss: 0.3976 - val_loss: 0.4183\n",
            "Epoch 32/32\n",
            "1875/1875 [==============================] - 14s 8ms/step - loss: 0.4022 - val_loss: 0.3977\n"
          ]
        },
        {
          "data": {
            "image/png": "[encoded data removed]",
            "text/plain": [
              "<Figure size 640x480 with 1 Axes>"
            ]
          },
          "metadata": {},
          "output_type": "display_data"
        }
      ],
      "source": [
        "history = fit_default_parameters(model)\n",
        "\n",
        "plot_loss(history)"
      ]
    },
    {
      "cell_type": "markdown",
      "metadata": {
        "id": "cyfNnLGd5V6h"
      },
      "source": [
        "## Adding another convolutional layer"
      ]
    },
    {
      "cell_type": "markdown",
      "metadata": {
        "id": "pSYo-Y8C5V0U"
      },
      "source": [
        "We will now add another convolutional layer that collapses the three channels. The idea is inspired by the scale space Laplacian."
      ]
    },
    {
      "cell_type": "code",
      "execution_count": null,
      "metadata": {
        "colab": {
          "base_uri": "https://localhost:8080/"
        },
        "id": "ci1DhQiFHgse",
        "outputId": "b159145a-53fd-410b-e8c4-f616eeb15bbc"
      },
      "outputs": [
        {
          "name": "stdout",
          "output_type": "stream",
          "text": [
            "Model: \"sequential_16\"\n",
            "_________________________________________________________________\n",
            " Layer (type)                Output Shape              Param #   \n",
            "=================================================================\n",
            " conv2d_32 (Conv2D)          (None, 26, 26, 3)         30        \n",
            "                                                                 \n",
            " conv2d_33 (Conv2D)          (None, 26, 26, 1)         4         \n",
            "                                                                 \n",
            " flatten_16 (Flatten)        (None, 676)               0         \n",
            "                                                                 \n",
            " dense_16 (Dense)            (None, 10)                6770      \n",
            "                                                                 \n",
            "=================================================================\n",
            "Total params: 6804 (26.58 KB)\n",
            "Trainable params: 6804 (26.58 KB)\n",
            "Non-trainable params: 0 (0.00 Byte)\n",
            "_________________________________________________________________\n"
          ]
        }
      ],
      "source": [
        "model = keras.Sequential([\n",
        "    keras.layers.Input(shape=(28, 28, 1)),\n",
        "    keras.layers.Conv2D(3, (3, 3)),\n",
        "    keras.layers.Conv2D(1, (1, 1)),\n",
        "    keras.layers.Flatten(),\n",
        "    keras.layers.Dense(10),\n",
        "])\n",
        "\n",
        "compile_and_summary(model)"
      ]
    },
    {
      "cell_type": "markdown",
      "metadata": {
        "id": "0G0Z3nGS6jhm"
      },
      "source": [
        "The size of the output tensor is $26 \\times 26 \\times 1$, since the borders are not ignored and there is one filter.\n",
        "\n",
        "The number of parameters in the second convolutional layer is $4$: there are $1 \\times 1$ weights for each channel, plus one bias."
      ]
    },
    {
      "cell_type": "code",
      "execution_count": null,
      "metadata": {
        "colab": {
          "base_uri": "https://localhost:8080/",
          "height": 1000
        },
        "id": "bzISxyGzHgk3",
        "outputId": "d3e68f87-f521-4ad9-c489-eabee30a8878"
      },
      "outputs": [
        {
          "name": "stdout",
          "output_type": "stream",
          "text": [
            "Epoch 1/32\n",
            "1875/1875 [==============================] - 7s 3ms/step - loss: 1.3184 - val_loss: 0.3695\n",
            "Epoch 2/32\n",
            "1875/1875 [==============================] - 5s 3ms/step - loss: 0.4660 - val_loss: 0.3458\n",
            "Epoch 3/32\n",
            "1875/1875 [==============================] - 6s 3ms/step - loss: 0.4610 - val_loss: 0.3636\n",
            "Epoch 4/32\n",
            "1875/1875 [==============================] - 5s 3ms/step - loss: 0.4591 - val_loss: 0.3338\n",
            "Epoch 5/32\n",
            "1875/1875 [==============================] - 6s 3ms/step - loss: 0.4439 - val_loss: 0.3200\n",
            "Epoch 6/32\n",
            "1875/1875 [==============================] - 5s 3ms/step - loss: 0.4539 - val_loss: 0.2933\n",
            "Epoch 7/32\n",
            "1875/1875 [==============================] - 6s 3ms/step - loss: 0.4561 - val_loss: 0.4729\n",
            "Epoch 8/32\n",
            "1875/1875 [==============================] - 6s 3ms/step - loss: 0.4554 - val_loss: 0.3653\n",
            "Epoch 9/32\n",
            "1875/1875 [==============================] - 6s 3ms/step - loss: 0.4531 - val_loss: 0.4993\n",
            "Epoch 10/32\n",
            "1875/1875 [==============================] - 5s 3ms/step - loss: 0.4588 - val_loss: 0.3723\n",
            "Epoch 11/32\n",
            "1875/1875 [==============================] - 6s 3ms/step - loss: 0.4501 - val_loss: 0.3526\n",
            "Epoch 12/32\n",
            "1875/1875 [==============================] - 5s 3ms/step - loss: 0.4365 - val_loss: 0.3581\n",
            "Epoch 13/32\n",
            "1875/1875 [==============================] - 6s 3ms/step - loss: 0.4404 - val_loss: 0.3237\n",
            "Epoch 14/32\n",
            "1875/1875 [==============================] - 6s 3ms/step - loss: 0.4397 - val_loss: 0.5391\n",
            "Epoch 15/32\n",
            "1875/1875 [==============================] - 6s 3ms/step - loss: 0.4399 - val_loss: 0.3829\n",
            "Epoch 16/32\n",
            "1875/1875 [==============================] - 6s 3ms/step - loss: 0.4191 - val_loss: 0.5541\n",
            "Epoch 17/32\n",
            "1875/1875 [==============================] - 6s 3ms/step - loss: 0.4167 - val_loss: 0.3577\n",
            "Epoch 18/32\n",
            "1875/1875 [==============================] - 6s 3ms/step - loss: 0.4274 - val_loss: 0.2983\n",
            "Epoch 19/32\n",
            "1875/1875 [==============================] - 6s 3ms/step - loss: 0.4144 - val_loss: 0.3188\n",
            "Epoch 20/32\n",
            "1875/1875 [==============================] - 6s 3ms/step - loss: 0.4263 - val_loss: 0.4349\n",
            "Epoch 21/32\n",
            "1875/1875 [==============================] - 5s 3ms/step - loss: 0.4288 - val_loss: 0.3354\n",
            "Epoch 22/32\n",
            "1875/1875 [==============================] - 6s 3ms/step - loss: 0.4131 - val_loss: 0.6145\n",
            "Epoch 23/32\n",
            "1875/1875 [==============================] - 5s 3ms/step - loss: 0.4077 - val_loss: 0.3295\n",
            "Epoch 24/32\n",
            "1875/1875 [==============================] - 6s 3ms/step - loss: 0.4003 - val_loss: 0.3415\n",
            "Epoch 25/32\n",
            "1875/1875 [==============================] - 6s 3ms/step - loss: 0.4067 - val_loss: 0.3304\n",
            "Epoch 26/32\n",
            "1875/1875 [==============================] - 6s 3ms/step - loss: 0.4087 - val_loss: 0.3391\n",
            "Epoch 27/32\n",
            "1875/1875 [==============================] - 5s 3ms/step - loss: 0.4019 - val_loss: 0.3441\n",
            "Epoch 28/32\n",
            "1875/1875 [==============================] - 6s 3ms/step - loss: 0.3999 - val_loss: 0.6519\n",
            "Epoch 29/32\n",
            "1875/1875 [==============================] - 6s 3ms/step - loss: 0.4021 - val_loss: 0.5201\n",
            "Epoch 30/32\n",
            "1875/1875 [==============================] - 6s 3ms/step - loss: 0.3890 - val_loss: 0.4071\n",
            "Epoch 31/32\n",
            "1875/1875 [==============================] - 6s 3ms/step - loss: 0.3870 - val_loss: 0.3167\n",
            "Epoch 32/32\n",
            "1875/1875 [==============================] - 6s 3ms/step - loss: 0.3869 - val_loss: 0.4559\n"
          ]
        },
        {
          "data": {
            "image/png": "[encoded data removed]",
            "text/plain": [
              "<Figure size 640x480 with 1 Axes>"
            ]
          },
          "metadata": {},
          "output_type": "display_data"
        }
      ],
      "source": [
        "history = fit_default_parameters(model)\n",
        "\n",
        "plot_loss(history)"
      ]
    },
    {
      "cell_type": "markdown",
      "metadata": {
        "id": "s6g1NjLZ8Jcl"
      },
      "source": [
        "## Removing bias"
      ]
    },
    {
      "cell_type": "markdown",
      "metadata": {
        "id": "l3kr69IU8JVJ"
      },
      "source": [
        "To be more faithful to the idea of representing a scale space, we will add the `use_bias=False` to disable the bias."
      ]
    },
    {
      "cell_type": "code",
      "execution_count": null,
      "metadata": {
        "colab": {
          "base_uri": "https://localhost:8080/"
        },
        "id": "PSHtaJgbKe9m",
        "outputId": "7408e947-5a01-43ce-cb27-926cca585818"
      },
      "outputs": [
        {
          "name": "stdout",
          "output_type": "stream",
          "text": [
            "Model: \"sequential_17\"\n",
            "_________________________________________________________________\n",
            " Layer (type)                Output Shape              Param #   \n",
            "=================================================================\n",
            " conv2d_34 (Conv2D)          (None, 26, 26, 3)         27        \n",
            "                                                                 \n",
            " conv2d_35 (Conv2D)          (None, 26, 26, 1)         3         \n",
            "                                                                 \n",
            " flatten_17 (Flatten)        (None, 676)               0         \n",
            "                                                                 \n",
            " dense_17 (Dense)            (None, 10)                6770      \n",
            "                                                                 \n",
            "=================================================================\n",
            "Total params: 6800 (26.56 KB)\n",
            "Trainable params: 6800 (26.56 KB)\n",
            "Non-trainable params: 0 (0.00 Byte)\n",
            "_________________________________________________________________\n"
          ]
        }
      ],
      "source": [
        "model = keras.Sequential([\n",
        "    keras.layers.Input(shape=(28, 28, 1)),\n",
        "    keras.layers.Conv2D(3, (3, 3), use_bias=False),\n",
        "    keras.layers.Conv2D(1, (1, 1), use_bias=False),\n",
        "    keras.layers.Flatten(),\n",
        "    keras.layers.Dense(10),\n",
        "])\n",
        "\n",
        "compile_and_summary(model)"
      ]
    },
    {
      "cell_type": "markdown",
      "metadata": {
        "id": "CZAHbUiu8iwJ"
      },
      "source": [
        "Notice the small difference in the number of parameters."
      ]
    },
    {
      "cell_type": "code",
      "execution_count": null,
      "metadata": {
        "colab": {
          "base_uri": "https://localhost:8080/",
          "height": 1000
        },
        "id": "wh3Lyyc6Ke12",
        "outputId": "9d4eeb6b-5923-4907-c445-5bc288559d54"
      },
      "outputs": [
        {
          "name": "stdout",
          "output_type": "stream",
          "text": [
            "Epoch 1/32\n",
            "1875/1875 [==============================] - 6s 3ms/step - loss: 1.3111 - val_loss: 0.3273\n",
            "Epoch 2/32\n",
            "1875/1875 [==============================] - 6s 3ms/step - loss: 0.3948 - val_loss: 0.3160\n",
            "Epoch 3/32\n",
            "1875/1875 [==============================] - 5s 3ms/step - loss: 0.3922 - val_loss: 0.3716\n",
            "Epoch 4/32\n",
            "1875/1875 [==============================] - 5s 3ms/step - loss: 0.3900 - val_loss: 0.3402\n",
            "Epoch 5/32\n",
            "1875/1875 [==============================] - 5s 3ms/step - loss: 0.3980 - val_loss: 0.3155\n",
            "Epoch 6/32\n",
            "1875/1875 [==============================] - 5s 3ms/step - loss: 0.3868 - val_loss: 0.3750\n",
            "Epoch 7/32\n",
            "1875/1875 [==============================] - 6s 3ms/step - loss: 0.3913 - val_loss: 0.4553\n",
            "Epoch 8/32\n",
            "1875/1875 [==============================] - 5s 3ms/step - loss: 0.3836 - val_loss: 0.3073\n",
            "Epoch 9/32\n",
            "1875/1875 [==============================] - 6s 3ms/step - loss: 0.3829 - val_loss: 0.2979\n",
            "Epoch 10/32\n",
            "1875/1875 [==============================] - 5s 3ms/step - loss: 0.3840 - val_loss: 0.3073\n",
            "Epoch 11/32\n",
            "1875/1875 [==============================] - 6s 3ms/step - loss: 0.3846 - val_loss: 0.5070\n",
            "Epoch 12/32\n",
            "1875/1875 [==============================] - 5s 3ms/step - loss: 0.3761 - val_loss: 0.3194\n",
            "Epoch 13/32\n",
            "1875/1875 [==============================] - 5s 3ms/step - loss: 0.3726 - val_loss: 0.3418\n",
            "Epoch 14/32\n",
            "1875/1875 [==============================] - 5s 3ms/step - loss: 0.3777 - val_loss: 0.3141\n",
            "Epoch 15/32\n",
            "1875/1875 [==============================] - 5s 3ms/step - loss: 0.3704 - val_loss: 0.3414\n",
            "Epoch 16/32\n",
            "1875/1875 [==============================] - 6s 3ms/step - loss: 0.3742 - val_loss: 0.3625\n",
            "Epoch 17/32\n",
            "1875/1875 [==============================] - 6s 3ms/step - loss: 0.3699 - val_loss: 0.3327\n",
            "Epoch 18/32\n",
            "1875/1875 [==============================] - 6s 3ms/step - loss: 0.3701 - val_loss: 0.3660\n",
            "Epoch 19/32\n",
            "1875/1875 [==============================] - 5s 3ms/step - loss: 0.3610 - val_loss: 0.3875\n",
            "Epoch 20/32\n",
            "1875/1875 [==============================] - 6s 3ms/step - loss: 0.3689 - val_loss: 0.3285\n",
            "Epoch 21/32\n",
            "1875/1875 [==============================] - 6s 3ms/step - loss: 0.3686 - val_loss: 0.3087\n",
            "Epoch 22/32\n",
            "1875/1875 [==============================] - 6s 3ms/step - loss: 0.3713 - val_loss: 0.3981\n",
            "Epoch 23/32\n",
            "1875/1875 [==============================] - 5s 3ms/step - loss: 0.3662 - val_loss: 0.3324\n",
            "Epoch 24/32\n",
            "1875/1875 [==============================] - 6s 3ms/step - loss: 0.3609 - val_loss: 0.3371\n",
            "Epoch 25/32\n",
            "1875/1875 [==============================] - 5s 3ms/step - loss: 0.3669 - val_loss: 0.3350\n",
            "Epoch 26/32\n",
            "1875/1875 [==============================] - 6s 3ms/step - loss: 0.3588 - val_loss: 0.4650\n",
            "Epoch 27/32\n",
            "1875/1875 [==============================] - 5s 3ms/step - loss: 0.3581 - val_loss: 0.3319\n",
            "Epoch 28/32\n",
            "1875/1875 [==============================] - 6s 3ms/step - loss: 0.3567 - val_loss: 0.3465\n",
            "Epoch 29/32\n",
            "1875/1875 [==============================] - 5s 3ms/step - loss: 0.3582 - val_loss: 0.3418\n",
            "Epoch 30/32\n",
            "1875/1875 [==============================] - 5s 3ms/step - loss: 0.3621 - val_loss: 0.4191\n",
            "Epoch 31/32\n",
            "1875/1875 [==============================] - 6s 3ms/step - loss: 0.3545 - val_loss: 0.3523\n",
            "Epoch 32/32\n",
            "1875/1875 [==============================] - 5s 3ms/step - loss: 0.3511 - val_loss: 0.3790\n"
          ]
        },
        {
          "data": {
            "image/png": "[encoded data removed]",
            "text/plain": [
              "<Figure size 640x480 with 1 Axes>"
            ]
          },
          "metadata": {},
          "output_type": "display_data"
        }
      ],
      "source": [
        "history = fit_default_parameters(model)\n",
        "\n",
        "plot_loss(history)"
      ]
    },
    {
      "cell_type": "markdown",
      "metadata": {
        "id": "8S4R4mYIchmU"
      },
      "source": [
        "## Re-revisiting the activation parameter"
      ]
    },
    {
      "cell_type": "markdown",
      "metadata": {
        "id": "aS75RS0m5jY-"
      },
      "source": [
        "Finally, we will add the `activation='relu'` parameter, which was what resulted in a smaller loss but also led to overfitting in Class 5."
      ]
    },
    {
      "cell_type": "code",
      "execution_count": null,
      "metadata": {
        "colab": {
          "base_uri": "https://localhost:8080/"
        },
        "id": "jbAtmNI0DSx5",
        "outputId": "9b3aa727-ff35-40ea-917d-c1d1fdf0b2d4"
      },
      "outputs": [
        {
          "name": "stdout",
          "output_type": "stream",
          "text": [
            "Model: \"sequential_15\"\n",
            "_________________________________________________________________\n",
            " Layer (type)                Output Shape              Param #   \n",
            "=================================================================\n",
            " conv2d_30 (Conv2D)          (None, 26, 26, 3)         27        \n",
            "                                                                 \n",
            " conv2d_31 (Conv2D)          (None, 26, 26, 1)         3         \n",
            "                                                                 \n",
            " flatten_15 (Flatten)        (None, 676)               0         \n",
            "                                                                 \n",
            " dense_15 (Dense)            (None, 10)                6770      \n",
            "                                                                 \n",
            "=================================================================\n",
            "Total params: 6800 (26.56 KB)\n",
            "Trainable params: 6800 (26.56 KB)\n",
            "Non-trainable params: 0 (0.00 Byte)\n",
            "_________________________________________________________________\n"
          ]
        }
      ],
      "source": [
        "model = keras.Sequential([\n",
        "    keras.layers.Input(shape=(28, 28, 1)),\n",
        "    keras.layers.Conv2D(3, (3, 3), use_bias=False, activation='relu'),\n",
        "    keras.layers.Conv2D(1, (1, 1), use_bias=False, activation='relu'),\n",
        "    keras.layers.Flatten(),\n",
        "    keras.layers.Dense(10),\n",
        "])\n",
        "\n",
        "compile_and_summary(model)"
      ]
    },
    {
      "cell_type": "markdown",
      "metadata": {
        "id": "mMH3aA9m9IUl"
      },
      "source": [
        "Notice that there are no difference in the number of parameters."
      ]
    },
    {
      "cell_type": "code",
      "execution_count": null,
      "metadata": {
        "colab": {
          "base_uri": "https://localhost:8080/",
          "height": 1000
        },
        "id": "o6ZTtrgwDSmn",
        "outputId": "27d1652e-d1dc-4c14-ce8e-3e09e0e8dcc9"
      },
      "outputs": [
        {
          "name": "stdout",
          "output_type": "stream",
          "text": [
            "Epoch 1/32\n",
            "1875/1875 [==============================] - 7s 3ms/step - loss: 0.9349 - val_loss: 0.2991\n",
            "Epoch 2/32\n",
            "1875/1875 [==============================] - 5s 3ms/step - loss: 0.2914 - val_loss: 0.2806\n",
            "Epoch 3/32\n",
            "1875/1875 [==============================] - 6s 3ms/step - loss: 0.2738 - val_loss: 0.2599\n",
            "Epoch 4/32\n",
            "1875/1875 [==============================] - 6s 3ms/step - loss: 0.2640 - val_loss: 0.2508\n",
            "Epoch 5/32\n",
            "1875/1875 [==============================] - 6s 3ms/step - loss: 0.2587 - val_loss: 0.2475\n",
            "Epoch 6/32\n",
            "1875/1875 [==============================] - 6s 3ms/step - loss: 0.2539 - val_loss: 0.2538\n",
            "Epoch 7/32\n",
            "1875/1875 [==============================] - 6s 3ms/step - loss: 0.2519 - val_loss: 0.2548\n",
            "Epoch 8/32\n",
            "1875/1875 [==============================] - 6s 3ms/step - loss: 0.2491 - val_loss: 0.2458\n",
            "Epoch 9/32\n",
            "1875/1875 [==============================] - 6s 3ms/step - loss: 0.2470 - val_loss: 0.2474\n",
            "Epoch 10/32\n",
            "1875/1875 [==============================] - 6s 3ms/step - loss: 0.2465 - val_loss: 0.2462\n",
            "Epoch 11/32\n",
            "1875/1875 [==============================] - 6s 3ms/step - loss: 0.2446 - val_loss: 0.2566\n",
            "Epoch 12/32\n",
            "1875/1875 [==============================] - 6s 3ms/step - loss: 0.2434 - val_loss: 0.2445\n",
            "Epoch 13/32\n",
            "1875/1875 [==============================] - 5s 3ms/step - loss: 0.2426 - val_loss: 0.2435\n",
            "Epoch 14/32\n",
            "1875/1875 [==============================] - 6s 3ms/step - loss: 0.2418 - val_loss: 0.2402\n",
            "Epoch 15/32\n",
            "1875/1875 [==============================] - 5s 3ms/step - loss: 0.2409 - val_loss: 0.2524\n",
            "Epoch 16/32\n",
            "1875/1875 [==============================] - 6s 3ms/step - loss: 0.2403 - val_loss: 0.2422\n",
            "Epoch 17/32\n",
            "1875/1875 [==============================] - 5s 3ms/step - loss: 0.2397 - val_loss: 0.2489\n",
            "Epoch 18/32\n",
            "1875/1875 [==============================] - 6s 3ms/step - loss: 0.2397 - val_loss: 0.2421\n",
            "Epoch 19/32\n",
            "1875/1875 [==============================] - 5s 3ms/step - loss: 0.2385 - val_loss: 0.2410\n",
            "Epoch 20/32\n",
            "1875/1875 [==============================] - 6s 3ms/step - loss: 0.2382 - val_loss: 0.2441\n",
            "Epoch 21/32\n",
            "1875/1875 [==============================] - 5s 3ms/step - loss: 0.2366 - val_loss: 0.2563\n",
            "Epoch 22/32\n",
            "1875/1875 [==============================] - 6s 3ms/step - loss: 0.2374 - val_loss: 0.2379\n",
            "Epoch 23/32\n",
            "1875/1875 [==============================] - 5s 3ms/step - loss: 0.2369 - val_loss: 0.2440\n",
            "Epoch 24/32\n",
            "1875/1875 [==============================] - 6s 3ms/step - loss: 0.2363 - val_loss: 0.2404\n",
            "Epoch 25/32\n",
            "1875/1875 [==============================] - 5s 3ms/step - loss: 0.2354 - val_loss: 0.2438\n",
            "Epoch 26/32\n",
            "1875/1875 [==============================] - 6s 3ms/step - loss: 0.2357 - val_loss: 0.2456\n",
            "Epoch 27/32\n",
            "1875/1875 [==============================] - 5s 3ms/step - loss: 0.2351 - val_loss: 0.2387\n",
            "Epoch 28/32\n",
            "1875/1875 [==============================] - 6s 3ms/step - loss: 0.2351 - val_loss: 0.2492\n",
            "Epoch 29/32\n",
            "1875/1875 [==============================] - 5s 3ms/step - loss: 0.2336 - val_loss: 0.2567\n",
            "Epoch 30/32\n",
            "1875/1875 [==============================] - 6s 3ms/step - loss: 0.2329 - val_loss: 0.2713\n",
            "Epoch 31/32\n",
            "1875/1875 [==============================] - 5s 3ms/step - loss: 0.2327 - val_loss: 0.2470\n",
            "Epoch 32/32\n",
            "1875/1875 [==============================] - 6s 3ms/step - loss: 0.2329 - val_loss: 0.2412\n"
          ]
        },
        {
          "data": {
            "image/png": "[encoded data removed]",
            "text/plain": [
              "<Figure size 640x480 with 1 Axes>"
            ]
          },
          "metadata": {},
          "output_type": "display_data"
        }
      ],
      "source": [
        "history = fit_default_parameters(model)\n",
        "\n",
        "plot_loss(history)"
      ]
    },
    {
      "cell_type": "markdown",
      "metadata": {
        "id": "yeqlUsEC6lqA"
      },
      "source": [
        "You can click on the ![toc.png](data:image/png;base64,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) tab to the left to browse by section."
      ]
    }
  ],
  "metadata": {
    "accelerator": "GPU",
    "colab": {
      "gpuType": "T4",
      "provenance": [],
      "toc_visible": true
    },
    "kernelspec": {
      "display_name": "Python 3",
      "name": "python3"
    },
    "language_info": {
      "name": "python"
    }
  },
  "nbformat": 4,
  "nbformat_minor": 0
}
