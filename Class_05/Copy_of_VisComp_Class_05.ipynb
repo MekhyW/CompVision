{
  "nbformat": 4,
  "nbformat_minor": 0,
  "metadata": {
    "colab": {
      "provenance": [],
      "toc_visible": true,
      "gpuType": "T4"
    },
    "kernelspec": {
      "name": "python3",
      "display_name": "Python 3"
    },
    "language_info": {
      "name": "python"
    },
    "accelerator": "GPU"
  },
  "cells": [
    {
      "cell_type": "markdown",
      "source": [
        "# Class 2: Slightly Less Basic Basics of Neural Networks"
      ],
      "metadata": {
        "id": "ldormuK39mU1"
      }
    },
    {
      "cell_type": "markdown",
      "source": [
        "## Preliminaries"
      ],
      "metadata": {
        "id": "Ot_LD8I8AOQ6"
      }
    },
    {
      "cell_type": "markdown",
      "source": [
        "Run the cell below to download the course library."
      ],
      "metadata": {
        "id": "jrA0L5tPd_aG"
      }
    },
    {
      "cell_type": "code",
      "source": [
        "import gdown\n",
        "\n",
        "gdown.download(id='1SzvuBYIZ407c9eOChXD48NG94v7azJby')"
      ],
      "metadata": {
        "id": "fMqO3xXod_fM",
        "colab": {
          "base_uri": "https://localhost:8080/",
          "height": 144
        },
        "outputId": "194706c1-c04c-4a91-d3c3-76e1889ab6e6"
      },
      "execution_count": null,
      "outputs": [
        {
          "output_type": "stream",
          "name": "stderr",
          "text": [
            "Downloading...\n",
            "From (original): https://drive.google.com/uc?id=1SzvuBYIZ407c9eOChXD48NG94v7azJby\n",
            "From (redirected): https://drive.google.com/uc?id=1SzvuBYIZ407c9eOChXD48NG94v7azJby&confirm=t&uuid=ff941b94-75d4-49f9-a436-247b3f5f42e2\n",
            "To: /content/sdx.py\n",
            "100%|██████████| 2.83k/2.83k [00:00<00:00, 9.60MB/s]\n"
          ]
        },
        {
          "output_type": "execute_result",
          "data": {
            "text/plain": [
              "'sdx.py'"
            ],
            "application/vnd.google.colaboratory.intrinsic+json": {
              "type": "string"
            }
          },
          "metadata": {},
          "execution_count": 1
        }
      ]
    },
    {
      "cell_type": "markdown",
      "source": [
        "Run the cell below to import the class modules.\n",
        "\n",
        "If you get import warnings, try using **`Ctrl+M .`** to restart the kernel. *(notice there is a dot there)*"
      ],
      "metadata": {
        "id": "qLYdrANx9t0n"
      }
    },
    {
      "cell_type": "code",
      "source": [
        "from tensorflow import keras\n",
        "from sdx import *"
      ],
      "metadata": {
        "id": "x3QrEMEhje9z"
      },
      "execution_count": null,
      "outputs": []
    },
    {
      "cell_type": "markdown",
      "source": [
        "## Loading the training and testing data"
      ],
      "metadata": {
        "id": "3ZG8DhOSj3Pe"
      }
    },
    {
      "cell_type": "markdown",
      "source": [
        "We will continue using the [MNIST dataset](http://yann.lecun.com/exdb/mnist/)."
      ],
      "metadata": {
        "id": "QopzKv3ZkGuJ"
      }
    },
    {
      "cell_type": "code",
      "source": [
        "(train_images, train_labels), (test_images, test_labels) = keras.datasets.mnist.load_data()"
      ],
      "metadata": {
        "id": "Y-TeDhsQj3TO",
        "colab": {
          "base_uri": "https://localhost:8080/"
        },
        "outputId": "1d9ac16a-c34a-47df-905d-ca63111ccdbe"
      },
      "execution_count": null,
      "outputs": [
        {
          "output_type": "stream",
          "name": "stdout",
          "text": [
            "Downloading data from https://storage.googleapis.com/tensorflow/tf-keras-datasets/mnist.npz\n",
            "11490434/11490434 [==============================] - 0s 0us/step\n"
          ]
        }
      ]
    },
    {
      "cell_type": "markdown",
      "source": [
        "Reminder: there are 60000 images for training and 10000 for testing."
      ],
      "metadata": {
        "id": "9V8vxKsTj3Wz"
      }
    },
    {
      "cell_type": "markdown",
      "source": [
        "## Revisiting the pseudo neural network"
      ],
      "metadata": {
        "id": "5aD5xn2Aj3uL"
      }
    },
    {
      "cell_type": "code",
      "source": [
        "model = keras.Sequential([\n",
        "    keras.layers.Input(shape=(28, 28, 1)),\n",
        "    keras.layers.Flatten(),\n",
        "    keras.layers.Dense(10),\n",
        "])"
      ],
      "metadata": {
        "id": "l8tKfOZAsrle"
      },
      "execution_count": null,
      "outputs": []
    },
    {
      "cell_type": "code",
      "source": [
        "model.summary()"
      ],
      "metadata": {
        "id": "gxSTA-fy7Cg3",
        "colab": {
          "base_uri": "https://localhost:8080/"
        },
        "outputId": "0b77d172-7224-469f-8dcd-dd5849483fd3"
      },
      "execution_count": null,
      "outputs": [
        {
          "output_type": "stream",
          "name": "stdout",
          "text": [
            "Model: \"sequential\"\n",
            "_________________________________________________________________\n",
            " Layer (type)                Output Shape              Param #   \n",
            "=================================================================\n",
            " flatten (Flatten)           (None, 784)               0         \n",
            "                                                                 \n",
            " dense (Dense)               (None, 10)                7850      \n",
            "                                                                 \n",
            "=================================================================\n",
            "Total params: 7850 (30.66 KB)\n",
            "Trainable params: 7850 (30.66 KB)\n",
            "Non-trainable params: 0 (0.00 Byte)\n",
            "_________________________________________________________________\n"
          ]
        }
      ]
    },
    {
      "cell_type": "code",
      "source": [
        "model.compile(\n",
        "    loss=keras.losses.SparseCategoricalCrossentropy(from_logits=True),\n",
        ")"
      ],
      "metadata": {
        "id": "XbQ0g7o67CaG"
      },
      "execution_count": null,
      "outputs": []
    },
    {
      "cell_type": "code",
      "source": [
        "history = model.fit(\n",
        "    train_images, train_labels,\n",
        "    epochs=32,\n",
        "    batch_size=32,\n",
        "    validation_data=(test_images, test_labels),\n",
        ");"
      ],
      "metadata": {
        "id": "ms3luccCsxqM",
        "colab": {
          "base_uri": "https://localhost:8080/"
        },
        "outputId": "e2343262-8513-4924-b878-d63d513ae9e4"
      },
      "execution_count": null,
      "outputs": [
        {
          "output_type": "stream",
          "name": "stdout",
          "text": [
            "Epoch 1/32\n",
            "1875/1875 [==============================] - 6s 3ms/step - loss: 9.8752 - val_loss: 8.5510\n",
            "Epoch 2/32\n",
            "1875/1875 [==============================] - 4s 2ms/step - loss: 6.2533 - val_loss: 5.5843\n",
            "Epoch 3/32\n",
            "1875/1875 [==============================] - 4s 2ms/step - loss: 5.7744 - val_loss: 6.1808\n",
            "Epoch 4/32\n",
            "1875/1875 [==============================] - 5s 2ms/step - loss: 5.5112 - val_loss: 5.0547\n",
            "Epoch 5/32\n",
            "1875/1875 [==============================] - 4s 2ms/step - loss: 5.3836 - val_loss: 5.6849\n",
            "Epoch 6/32\n",
            "1875/1875 [==============================] - 4s 2ms/step - loss: 5.2450 - val_loss: 5.8144\n",
            "Epoch 7/32\n",
            "1875/1875 [==============================] - 4s 2ms/step - loss: 5.2472 - val_loss: 5.2935\n",
            "Epoch 8/32\n",
            "1875/1875 [==============================] - 4s 2ms/step - loss: 5.1095 - val_loss: 4.5778\n",
            "Epoch 9/32\n",
            "1875/1875 [==============================] - 5s 3ms/step - loss: 5.2333 - val_loss: 5.8506\n",
            "Epoch 10/32\n",
            "1875/1875 [==============================] - 4s 2ms/step - loss: 5.0598 - val_loss: 5.9213\n",
            "Epoch 11/32\n",
            "1875/1875 [==============================] - 4s 2ms/step - loss: 5.1682 - val_loss: 5.4765\n",
            "Epoch 12/32\n",
            "1875/1875 [==============================] - 5s 2ms/step - loss: 5.0577 - val_loss: 6.5482\n",
            "Epoch 13/32\n",
            "1875/1875 [==============================] - 4s 2ms/step - loss: 5.1609 - val_loss: 5.2986\n",
            "Epoch 14/32\n",
            "1875/1875 [==============================] - 4s 2ms/step - loss: 5.1383 - val_loss: 6.0964\n",
            "Epoch 15/32\n",
            "1875/1875 [==============================] - 5s 3ms/step - loss: 5.1183 - val_loss: 6.1269\n",
            "Epoch 16/32\n",
            "1875/1875 [==============================] - 4s 2ms/step - loss: 5.0906 - val_loss: 5.1962\n",
            "Epoch 17/32\n",
            "1875/1875 [==============================] - 4s 2ms/step - loss: 5.1006 - val_loss: 6.1981\n",
            "Epoch 18/32\n",
            "1875/1875 [==============================] - 5s 2ms/step - loss: 5.1246 - val_loss: 5.0613\n",
            "Epoch 19/32\n",
            "1875/1875 [==============================] - 4s 2ms/step - loss: 5.1297 - val_loss: 5.3223\n",
            "Epoch 20/32\n",
            "1875/1875 [==============================] - 4s 2ms/step - loss: 5.1368 - val_loss: 5.5310\n",
            "Epoch 21/32\n",
            "1875/1875 [==============================] - 6s 3ms/step - loss: 5.0802 - val_loss: 5.5948\n",
            "Epoch 22/32\n",
            "1875/1875 [==============================] - 4s 2ms/step - loss: 5.1857 - val_loss: 5.7804\n",
            "Epoch 23/32\n",
            "1875/1875 [==============================] - 5s 2ms/step - loss: 5.1582 - val_loss: 5.8340\n",
            "Epoch 24/32\n",
            "1875/1875 [==============================] - 4s 2ms/step - loss: 5.1728 - val_loss: 5.4512\n",
            "Epoch 25/32\n",
            "1875/1875 [==============================] - 4s 2ms/step - loss: 5.1284 - val_loss: 5.3958\n",
            "Epoch 26/32\n",
            "1875/1875 [==============================] - 4s 2ms/step - loss: 5.0953 - val_loss: 5.7991\n",
            "Epoch 27/32\n",
            "1875/1875 [==============================] - 4s 2ms/step - loss: 5.1008 - val_loss: 5.6463\n",
            "Epoch 28/32\n",
            "1875/1875 [==============================] - 5s 3ms/step - loss: 5.1512 - val_loss: 7.2295\n",
            "Epoch 29/32\n",
            "1875/1875 [==============================] - 4s 2ms/step - loss: 5.1413 - val_loss: 6.9629\n",
            "Epoch 30/32\n",
            "1875/1875 [==============================] - 4s 2ms/step - loss: 5.1671 - val_loss: 6.5806\n",
            "Epoch 31/32\n",
            "1875/1875 [==============================] - 5s 2ms/step - loss: 5.1471 - val_loss: 5.8717\n",
            "Epoch 32/32\n",
            "1875/1875 [==============================] - 4s 2ms/step - loss: 5.1973 - val_loss: 6.0796\n"
          ]
        }
      ]
    },
    {
      "cell_type": "code",
      "source": [
        "model.evaluate(test_images, test_labels)"
      ],
      "metadata": {
        "id": "t8qTRarj8dr2",
        "colab": {
          "base_uri": "https://localhost:8080/"
        },
        "outputId": "19024f45-6ba7-41f1-adc8-2c01ec9d6d6b"
      },
      "execution_count": null,
      "outputs": [
        {
          "output_type": "stream",
          "name": "stdout",
          "text": [
            "313/313 [==============================] - 1s 2ms/step - loss: 6.0796\n"
          ]
        },
        {
          "output_type": "execute_result",
          "data": {
            "text/plain": [
              "6.079566955566406"
            ]
          },
          "metadata": {},
          "execution_count": 8
        }
      ]
    },
    {
      "cell_type": "code",
      "source": [
        "plot_loss(history)"
      ],
      "metadata": {
        "id": "SKJvfK1sVMqq",
        "colab": {
          "base_uri": "https://localhost:8080/",
          "height": 434
        },
        "outputId": "37df2d9e-d528-4d39-9f66-6d0cbfbec794"
      },
      "execution_count": null,
      "outputs": [
        {
          "output_type": "display_data",
          "data": {
            "text/plain": [
              "<Figure size 640x480 with 1 Axes>"
            ],
            "image/png": "[encoded data removed]"
          },
          "metadata": {}
        }
      ]
    },
    {
      "cell_type": "markdown",
      "source": [
        "## Revisiting the single-layer neural network"
      ],
      "metadata": {
        "id": "_6_kArXWj4BA"
      }
    },
    {
      "cell_type": "code",
      "source": [
        "model = keras.Sequential([\n",
        "    keras.layers.Input(shape=(28, 28, 1)),\n",
        "    keras.layers.Flatten(),\n",
        "    keras.layers.Dense(397),\n",
        "    keras.layers.Dense(10),\n",
        "])\n",
        "\n",
        "model.summary()\n",
        "\n",
        "model.compile(\n",
        "    loss=keras.losses.SparseCategoricalCrossentropy(from_logits=True),\n",
        ")"
      ],
      "metadata": {
        "id": "ar2zWF0l_hZt",
        "colab": {
          "base_uri": "https://localhost:8080/"
        },
        "outputId": "731daf4b-3c0a-4795-86d5-281b9ac7a71e"
      },
      "execution_count": null,
      "outputs": [
        {
          "output_type": "stream",
          "name": "stdout",
          "text": [
            "Model: \"sequential_1\"\n",
            "_________________________________________________________________\n",
            " Layer (type)                Output Shape              Param #   \n",
            "=================================================================\n",
            " flatten_1 (Flatten)         (None, 784)               0         \n",
            "                                                                 \n",
            " dense_1 (Dense)             (None, 397)               311645    \n",
            "                                                                 \n",
            " dense_2 (Dense)             (None, 10)                3980      \n",
            "                                                                 \n",
            "=================================================================\n",
            "Total params: 315625 (1.20 MB)\n",
            "Trainable params: 315625 (1.20 MB)\n",
            "Non-trainable params: 0 (0.00 Byte)\n",
            "_________________________________________________________________\n"
          ]
        }
      ]
    },
    {
      "cell_type": "code",
      "source": [
        "history = model.fit(\n",
        "    train_images, train_labels,\n",
        "    epochs=32,\n",
        "    batch_size=32,\n",
        "    validation_data=(test_images, test_labels),\n",
        ");\n",
        "\n",
        "plot_loss(history)"
      ],
      "metadata": {
        "id": "NSP79w0vLDKr",
        "colab": {
          "base_uri": "https://localhost:8080/",
          "height": 1000
        },
        "outputId": "91ba3715-c50c-4804-bf35-7a0f4881ea86"
      },
      "execution_count": null,
      "outputs": [
        {
          "output_type": "stream",
          "name": "stdout",
          "text": [
            "Epoch 1/32\n",
            "1875/1875 [==============================] - 6s 3ms/step - loss: 24.1653 - val_loss: 5.8742\n",
            "Epoch 2/32\n",
            "1875/1875 [==============================] - 4s 2ms/step - loss: 5.1086 - val_loss: 6.5725\n",
            "Epoch 3/32\n",
            "1875/1875 [==============================] - 5s 3ms/step - loss: 4.1175 - val_loss: 4.8531\n",
            "Epoch 4/32\n",
            "1875/1875 [==============================] - 4s 2ms/step - loss: 3.9601 - val_loss: 4.7731\n",
            "Epoch 5/32\n",
            "1875/1875 [==============================] - 4s 2ms/step - loss: 3.8733 - val_loss: 3.7163\n",
            "Epoch 6/32\n",
            "1875/1875 [==============================] - 5s 3ms/step - loss: 3.8345 - val_loss: 3.1783\n",
            "Epoch 7/32\n",
            "1875/1875 [==============================] - 5s 2ms/step - loss: 3.7888 - val_loss: 5.3818\n",
            "Epoch 8/32\n",
            "1875/1875 [==============================] - 5s 3ms/step - loss: 3.7872 - val_loss: 4.3811\n",
            "Epoch 9/32\n",
            "1875/1875 [==============================] - 5s 3ms/step - loss: 3.7872 - val_loss: 5.1132\n",
            "Epoch 10/32\n",
            "1875/1875 [==============================] - 4s 2ms/step - loss: 3.7728 - val_loss: 3.4326\n",
            "Epoch 11/32\n",
            "1875/1875 [==============================] - 5s 3ms/step - loss: 3.7660 - val_loss: 3.8703\n",
            "Epoch 12/32\n",
            "1875/1875 [==============================] - 5s 2ms/step - loss: 3.7564 - val_loss: 4.1921\n",
            "Epoch 13/32\n",
            "1875/1875 [==============================] - 5s 3ms/step - loss: 3.6836 - val_loss: 3.4145\n",
            "Epoch 14/32\n",
            "1875/1875 [==============================] - 4s 2ms/step - loss: 3.7064 - val_loss: 3.3751\n",
            "Epoch 15/32\n",
            "1875/1875 [==============================] - 5s 2ms/step - loss: 3.7442 - val_loss: 4.1290\n",
            "Epoch 16/32\n",
            "1875/1875 [==============================] - 5s 3ms/step - loss: 3.7143 - val_loss: 3.3496\n",
            "Epoch 17/32\n",
            "1875/1875 [==============================] - 4s 2ms/step - loss: 3.7282 - val_loss: 4.1072\n",
            "Epoch 18/32\n",
            "1875/1875 [==============================] - 5s 3ms/step - loss: 3.7715 - val_loss: 3.3270\n",
            "Epoch 19/32\n",
            "1875/1875 [==============================] - 5s 2ms/step - loss: 3.7463 - val_loss: 3.4130\n",
            "Epoch 20/32\n",
            "1875/1875 [==============================] - 4s 2ms/step - loss: 3.7510 - val_loss: 6.1999\n",
            "Epoch 21/32\n",
            "1875/1875 [==============================] - 5s 3ms/step - loss: 3.7992 - val_loss: 3.6473\n",
            "Epoch 22/32\n",
            "1875/1875 [==============================] - 4s 2ms/step - loss: 3.8036 - val_loss: 4.1905\n",
            "Epoch 23/32\n",
            "1875/1875 [==============================] - 4s 2ms/step - loss: 3.7749 - val_loss: 3.6810\n",
            "Epoch 24/32\n",
            "1875/1875 [==============================] - 5s 3ms/step - loss: 3.8078 - val_loss: 5.1001\n",
            "Epoch 25/32\n",
            "1875/1875 [==============================] - 4s 2ms/step - loss: 3.7674 - val_loss: 4.0229\n",
            "Epoch 26/32\n",
            "1875/1875 [==============================] - 5s 3ms/step - loss: 3.7773 - val_loss: 3.7406\n",
            "Epoch 27/32\n",
            "1875/1875 [==============================] - 4s 2ms/step - loss: 3.7843 - val_loss: 3.2425\n",
            "Epoch 28/32\n",
            "1875/1875 [==============================] - 5s 2ms/step - loss: 3.7390 - val_loss: 4.5456\n",
            "Epoch 29/32\n",
            "1875/1875 [==============================] - 5s 3ms/step - loss: 3.8126 - val_loss: 3.6985\n",
            "Epoch 30/32\n",
            "1875/1875 [==============================] - 4s 2ms/step - loss: 3.8178 - val_loss: 3.5678\n",
            "Epoch 31/32\n",
            "1875/1875 [==============================] - 5s 3ms/step - loss: 3.8103 - val_loss: 3.5609\n",
            "Epoch 32/32\n",
            "1875/1875 [==============================] - 4s 2ms/step - loss: 3.8575 - val_loss: 4.1336\n"
          ]
        },
        {
          "output_type": "display_data",
          "data": {
            "text/plain": [
              "<Figure size 640x480 with 1 Axes>"
            ],
            "image/png": "[encoded data removed]"
          },
          "metadata": {}
        }
      ]
    },
    {
      "cell_type": "markdown",
      "source": [
        "## Revisiting the activation parameter"
      ],
      "metadata": {
        "id": "8S4R4mYIchmU"
      }
    },
    {
      "cell_type": "code",
      "source": [
        "model = keras.Sequential([\n",
        "    keras.layers.Input(shape=(28, 28, 1)),\n",
        "    keras.layers.Flatten(),\n",
        "    keras.layers.Dense(397, activation='relu'),\n",
        "    keras.layers.Dense(10),\n",
        "])\n",
        "\n",
        "model.summary()\n",
        "\n",
        "model.compile(\n",
        "    loss=keras.losses.SparseCategoricalCrossentropy(from_logits=True),\n",
        ")"
      ],
      "metadata": {
        "id": "yi4rqtEfMUxJ",
        "colab": {
          "base_uri": "https://localhost:8080/"
        },
        "outputId": "818a9f39-2155-46cb-f6d1-7e4e04b291f5"
      },
      "execution_count": null,
      "outputs": [
        {
          "output_type": "stream",
          "name": "stdout",
          "text": [
            "Model: \"sequential_2\"\n",
            "_________________________________________________________________\n",
            " Layer (type)                Output Shape              Param #   \n",
            "=================================================================\n",
            " flatten_2 (Flatten)         (None, 784)               0         \n",
            "                                                                 \n",
            " dense_3 (Dense)             (None, 397)               311645    \n",
            "                                                                 \n",
            " dense_4 (Dense)             (None, 10)                3980      \n",
            "                                                                 \n",
            "=================================================================\n",
            "Total params: 315625 (1.20 MB)\n",
            "Trainable params: 315625 (1.20 MB)\n",
            "Non-trainable params: 0 (0.00 Byte)\n",
            "_________________________________________________________________\n"
          ]
        }
      ]
    },
    {
      "cell_type": "code",
      "source": [
        "history = model.fit(\n",
        "    train_images, train_labels,\n",
        "    epochs=32,\n",
        "    batch_size=32,\n",
        "    validation_data=(test_images, test_labels),\n",
        ");\n",
        "\n",
        "plot_loss(history)"
      ],
      "metadata": {
        "id": "PzIjhqsLMLch",
        "colab": {
          "base_uri": "https://localhost:8080/",
          "height": 1000
        },
        "outputId": "cfcdb2ec-3817-4fbe-fb41-af300724e901"
      },
      "execution_count": null,
      "outputs": [
        {
          "output_type": "stream",
          "name": "stdout",
          "text": [
            "Epoch 1/32\n",
            "1875/1875 [==============================] - 5s 2ms/step - loss: 3.2489 - val_loss: 0.6554\n",
            "Epoch 2/32\n",
            "1875/1875 [==============================] - 5s 2ms/step - loss: 0.5995 - val_loss: 0.7156\n",
            "Epoch 3/32\n",
            "1875/1875 [==============================] - 5s 3ms/step - loss: 0.4751 - val_loss: 0.6122\n",
            "Epoch 4/32\n",
            "1875/1875 [==============================] - 5s 2ms/step - loss: 0.4180 - val_loss: 0.7038\n",
            "Epoch 5/32\n",
            "1875/1875 [==============================] - 5s 3ms/step - loss: 0.3719 - val_loss: 0.6689\n",
            "Epoch 6/32\n",
            "1875/1875 [==============================] - 4s 2ms/step - loss: 0.3423 - val_loss: 0.6850\n",
            "Epoch 7/32\n",
            "1875/1875 [==============================] - 4s 2ms/step - loss: 0.3240 - val_loss: 0.7281\n",
            "Epoch 8/32\n",
            "1875/1875 [==============================] - 5s 3ms/step - loss: 0.2794 - val_loss: 0.6759\n",
            "Epoch 9/32\n",
            "1875/1875 [==============================] - 5s 2ms/step - loss: 0.2657 - val_loss: 0.7090\n",
            "Epoch 10/32\n",
            "1875/1875 [==============================] - 5s 3ms/step - loss: 0.2885 - val_loss: 0.6369\n",
            "Epoch 11/32\n",
            "1875/1875 [==============================] - 4s 2ms/step - loss: 0.2377 - val_loss: 0.7420\n",
            "Epoch 12/32\n",
            "1875/1875 [==============================] - 4s 2ms/step - loss: 0.2366 - val_loss: 0.7038\n",
            "Epoch 13/32\n",
            "1875/1875 [==============================] - 5s 3ms/step - loss: 0.2246 - val_loss: 0.8463\n",
            "Epoch 14/32\n",
            "1875/1875 [==============================] - 4s 2ms/step - loss: 0.1915 - val_loss: 0.8403\n",
            "Epoch 15/32\n",
            "1875/1875 [==============================] - 5s 3ms/step - loss: 0.1754 - val_loss: 0.8992\n",
            "Epoch 16/32\n",
            "1875/1875 [==============================] - 5s 3ms/step - loss: 0.1927 - val_loss: 0.8929\n",
            "Epoch 17/32\n",
            "1875/1875 [==============================] - 5s 2ms/step - loss: 0.1823 - val_loss: 0.8884\n",
            "Epoch 18/32\n",
            "1875/1875 [==============================] - 5s 3ms/step - loss: 0.1623 - val_loss: 0.9184\n",
            "Epoch 19/32\n",
            "1875/1875 [==============================] - 4s 2ms/step - loss: 0.1449 - val_loss: 0.9874\n",
            "Epoch 20/32\n",
            "1875/1875 [==============================] - 5s 3ms/step - loss: 0.1507 - val_loss: 0.9491\n",
            "Epoch 21/32\n",
            "1875/1875 [==============================] - 5s 2ms/step - loss: 0.1463 - val_loss: 0.8937\n",
            "Epoch 22/32\n",
            "1875/1875 [==============================] - 4s 2ms/step - loss: 0.1260 - val_loss: 0.9176\n",
            "Epoch 23/32\n",
            "1875/1875 [==============================] - 5s 3ms/step - loss: 0.1124 - val_loss: 0.9353\n",
            "Epoch 24/32\n",
            "1875/1875 [==============================] - 4s 2ms/step - loss: 0.1061 - val_loss: 0.9120\n",
            "Epoch 25/32\n",
            "1875/1875 [==============================] - 5s 3ms/step - loss: 0.0889 - val_loss: 0.8895\n",
            "Epoch 26/32\n",
            "1875/1875 [==============================] - 5s 2ms/step - loss: 0.0914 - val_loss: 1.0588\n",
            "Epoch 27/32\n",
            "1875/1875 [==============================] - 5s 2ms/step - loss: 0.0878 - val_loss: 1.0195\n",
            "Epoch 28/32\n",
            "1875/1875 [==============================] - 5s 3ms/step - loss: 0.0820 - val_loss: 1.0041\n",
            "Epoch 29/32\n",
            "1875/1875 [==============================] - 5s 2ms/step - loss: 0.0962 - val_loss: 1.1748\n",
            "Epoch 30/32\n",
            "1875/1875 [==============================] - 5s 3ms/step - loss: 0.0875 - val_loss: 1.0725\n",
            "Epoch 31/32\n",
            "1875/1875 [==============================] - 4s 2ms/step - loss: 0.0995 - val_loss: 1.0717\n",
            "Epoch 32/32\n",
            "1875/1875 [==============================] - 4s 2ms/step - loss: 0.0839 - val_loss: 1.2509\n"
          ]
        },
        {
          "output_type": "display_data",
          "data": {
            "text/plain": [
              "<Figure size 640x480 with 1 Axes>"
            ],
            "image/png": "[encoded data removed]"
          },
          "metadata": {}
        }
      ]
    },
    {
      "cell_type": "markdown",
      "source": [
        "You can click on the ![toc.png](data:image/png;base64,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) tab to the left to browse by section."
      ],
      "metadata": {
        "id": "yeqlUsEC6lqA"
      }
    }
  ]
}