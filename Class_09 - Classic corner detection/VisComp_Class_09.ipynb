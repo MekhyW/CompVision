{
  "cells": [
    {
      "cell_type": "markdown",
      "metadata": {
        "id": "ldormuK39mU1"
      },
      "source": [
        "# Class 9: Corner Detection and Keypoint Matching"
      ]
    },
    {
      "cell_type": "markdown",
      "metadata": {
        "id": "Ot_LD8I8AOQ6"
      },
      "source": [
        "## Preliminaries"
      ]
    },
    {
      "cell_type": "markdown",
      "metadata": {
        "id": "Ek7agefuszoy"
      },
      "source": [
        "Run the cell below to download the course library and class resources."
      ]
    },
    {
      "cell_type": "code",
      "execution_count": null,
      "metadata": {
        "colab": {
          "base_uri": "https://localhost:8080/"
        },
        "id": "scgW0p6mlcED",
        "outputId": "10559f7a-9804-48c8-def8-a5377bc71175"
      },
      "outputs": [],
      "source": [
        "from urllib.request import urlretrieve\n",
        "\n",
        "urlretrieve('https://drive.google.com/uc?export=download&id=1SiLnO91qJWKomBkGhKciJSG9Hcd_zRp7', 'sdx.zip')\n",
        "!unzip -o 'sdx.zip'\n",
        "!rm 'sdx.zip'\n",
        "\n",
        "urlretrieve('https://drive.google.com/uc?export=download&id=19_wiL7cEmw_tEKROT9B-1NDxV9n7bhcP', '09.zip')\n",
        "!unzip -o '09.zip'\n",
        "!rm '09.zip'"
      ]
    },
    {
      "cell_type": "markdown",
      "metadata": {
        "id": "qLYdrANx9t0n"
      },
      "source": [
        "Run the cell below to import the class modules.\n",
        "\n",
        "If you get import warnings, try using **`Ctrl+M .`** to restart the kernel. *(notice there is a dot there)*"
      ]
    },
    {
      "cell_type": "code",
      "execution_count": null,
      "metadata": {
        "id": "eb5nYmlg48g3"
      },
      "outputs": [],
      "source": [
        "import numpy as np\n",
        "import cv2 as cv\n",
        "\n",
        "from sdx import *"
      ]
    },
    {
      "cell_type": "markdown",
      "metadata": {
        "id": "ULFYAFZOQHBf"
      },
      "source": [
        "## Convenience functions"
      ]
    },
    {
      "cell_type": "markdown",
      "metadata": {
        "id": "l2ZaXHcaQJkR"
      },
      "source": [
        "### Harris-Stephens corner detector"
      ]
    },
    {
      "cell_type": "code",
      "execution_count": null,
      "metadata": {
        "id": "2GNxtEXnnltD"
      },
      "outputs": [],
      "source": [
        "def harris_stephens_points(image, limit=None):\n",
        "    height, width = image.shape\n",
        "\n",
        "    # Keep these parameters fixed. Thinking about\n",
        "    # them will only give you analysis paralysis.\n",
        "    harris = cv.cornerHarris(image, 3, 3, 0.05)\n",
        "\n",
        "    # The cornerHarris function returns an array\n",
        "    # with the response values for each pixel.\n",
        "    # We will convert this to a list of points.\n",
        "\n",
        "    points = []\n",
        "\n",
        "    for y in range(height):\n",
        "        for x in range(width):\n",
        "            value = harris[y, x]\n",
        "\n",
        "            # Negative values are edge responses\n",
        "            # and zero values are flat responses.\n",
        "            # We will only keep corner responses.\n",
        "            if value > 0:\n",
        "                points.append((y, x, value))\n",
        "\n",
        "    # Sorting by the value: strong corners first.\n",
        "    points.sort(key=lambda point: point[2], reverse=True)\n",
        "\n",
        "    if limit is None:\n",
        "        limit = len(points)\n",
        "    return [(y, x) for y, x, value in points][:limit]"
      ]
    },
    {
      "cell_type": "markdown",
      "metadata": {
        "id": "nAhVR7-sQPLm"
      },
      "source": [
        "### Shi-Tomasi corner detector"
      ]
    },
    {
      "cell_type": "code",
      "execution_count": null,
      "metadata": {
        "id": "1d_7yjQGvtuV"
      },
      "outputs": [],
      "source": [
        "def shi_tomasi_points(image, limit=None):\n",
        "    height, width = image.shape\n",
        "\n",
        "    # Keep these parameters fixed. Thinking about\n",
        "    # them will only give you analysis paralysis.\n",
        "    gftt = cv.goodFeaturesToTrack(image, 0, 0.01, 0)\n",
        "\n",
        "    # Unlike cornerHarris, the goodFeaturesToTrack\n",
        "    # function returns a list of points already\n",
        "    # sorted by corner strength. We just need to\n",
        "    # clean up the output a bit for easier usage.\n",
        "    points = []\n",
        "    for point in gftt:\n",
        "        x, y = point[0]\n",
        "        points.append((round(y), round(x)))\n",
        "\n",
        "    if limit is None:\n",
        "        limit = len(points)\n",
        "    return points[:limit]"
      ]
    },
    {
      "cell_type": "markdown",
      "metadata": {
        "id": "pnT2bMkBQUpI"
      },
      "source": [
        "### Draw keypoints over an image"
      ]
    },
    {
      "cell_type": "code",
      "execution_count": null,
      "metadata": {
        "id": "3rtkefPVnlqB"
      },
      "outputs": [],
      "source": [
        "def draw_points(image, points):\n",
        "    image = cv.cvtColor(image, cv.COLOR_GRAY2BGR)\n",
        "\n",
        "    for y, x in points:\n",
        "        cv.circle(image, (x, y), 4, (0, 0, 255), 2)\n",
        "\n",
        "    cv_imshow(image)"
      ]
    },
    {
      "cell_type": "markdown",
      "metadata": {
        "id": "IEEsNyLAQhpX"
      },
      "source": [
        "### Draw matches over two images"
      ]
    },
    {
      "cell_type": "code",
      "execution_count": null,
      "metadata": {
        "id": "LALdegZMzJX5"
      },
      "outputs": [],
      "source": [
        "def draw_matches(source, target, matches):\n",
        "    s_height, s_width = source.shape\n",
        "    t_height, t_width = target.shape\n",
        "\n",
        "    height = max(s_height, t_height)\n",
        "    shift = s_width + 1\n",
        "    width = shift + t_width\n",
        "\n",
        "    image = np.full((height, width), 255, np.float32)\n",
        "    image[:s_height, :s_width] = source\n",
        "    image[:t_height, (s_width + 1):width] = target\n",
        "\n",
        "    image = cv.cvtColor(image, cv.COLOR_GRAY2BGR)\n",
        "\n",
        "    for s, t in matches:\n",
        "        s_y, s_x = s\n",
        "        t_y, t_x = t\n",
        "        cv.line(image, (s_x, s_y), (shift + t_x, t_y), (0, 255, 0), 1)\n",
        "\n",
        "    cv_imshow(image)"
      ]
    },
    {
      "cell_type": "markdown",
      "metadata": {
        "id": "Mlg9kyUoQ5vb"
      },
      "source": [
        "### Take a patch around a point"
      ]
    },
    {
      "cell_type": "code",
      "execution_count": null,
      "metadata": {
        "id": "CBPvEH4F6MHQ"
      },
      "outputs": [],
      "source": [
        "def patch(image, y, x, size):\n",
        "    radius = size // 2\n",
        "    return image[(y - radius):(y + radius + 1), (x - radius):(x + radius + 1)]"
      ]
    },
    {
      "cell_type": "markdown",
      "metadata": {
        "id": "K4zI1l1MRGow"
      },
      "source": [
        "## Functions you should change"
      ]
    },
    {
      "cell_type": "markdown",
      "metadata": {
        "id": "o1g-rMe9ROyO"
      },
      "source": [
        "### Calculate the distance between two patches"
      ]
    },
    {
      "cell_type": "code",
      "execution_count": null,
      "metadata": {
        "id": "D4amqOlG7o-J"
      },
      "outputs": [],
      "source": [
        "from scipy.ndimage import rotate # Library to align the patch orientations\n",
        "\n",
        "def calculate_distance(s_patch, t_patch, size):\n",
        "    s_gradient_x, s_gradient_y = np.gradient(s_patch, axis=1), np.gradient(s_patch, axis=0)\n",
        "    t_gradient_x, t_gradient_y = np.gradient(t_patch, axis=1), np.gradient(t_patch, axis=0)\n",
        "    s_orientation, t_orientation = np.arctan2(s_gradient_y.mean(), s_gradient_x.mean()), np.arctan2(t_gradient_y.mean(), t_gradient_x.mean())\n",
        "    s_patch_aligned = rotate(s_patch, -np.degrees(s_orientation), reshape=False, order=3)\n",
        "    t_patch_aligned = rotate(t_patch, -np.degrees(t_orientation), reshape=False, order=3)\n",
        "    return np.sqrt(np.sum((s_patch_aligned - t_patch_aligned) ** 2))\n",
        "\n",
        "# As discussed, the algorithm seems to work for 90/180/270 rotations around the Z axis but does not generalize well (probably could come up with a better solution for calculating\n",
        "#the gradients around arbitrary axes, and use reshaping to avoid cropping corners)"
      ]
    },
    {
      "cell_type": "code",
      "execution_count": null,
      "metadata": {
        "id": "5ggSv_eK30No"
      },
      "outputs": [],
      "source": []
    },
    {
      "cell_type": "markdown",
      "metadata": {
        "id": "XBtObrM9RUp4"
      },
      "source": [
        "### Find the matches between two images"
      ]
    },
    {
      "cell_type": "code",
      "execution_count": null,
      "metadata": {
        "id": "T0orNgDS3bUT"
      },
      "outputs": [],
      "source": [
        "def calculate_matches(source, target):\n",
        "    # Getting the four best Harris-Stephens corners.\n",
        "    # Feel free to use Shi-Tomasi or another number.\n",
        "    s_points = harris_stephens_points(source, 4)\n",
        "    t_points = harris_stephens_points(target, 4)\n",
        "\n",
        "    # For each corner, analyzing a 3x3 patch around\n",
        "    # it. Feel free to use another size if you want.\n",
        "    size = 5\n",
        "\n",
        "    # You are not expected to change the code below,\n",
        "    # unless you want to get really creative.\n",
        "\n",
        "    # Each match must be a pair of points, with the\n",
        "    # first being the source point and the second\n",
        "    # being the target point. Each point must be in\n",
        "    # the (y, x) order, as we are used to in OpenCV.\n",
        "\n",
        "    matches = []\n",
        "\n",
        "    for s_y, s_x in s_points:\n",
        "        s_patch = patch(source, s_y, s_x, size)\n",
        "\n",
        "        min_dist = np.inf\n",
        "\n",
        "        for t_y, t_x in t_points:\n",
        "            t_patch = patch(target, t_y, t_x, size)\n",
        "\n",
        "            dist = calculate_distance(s_patch, t_patch, size)\n",
        "\n",
        "            if min_dist > dist:\n",
        "                min_dist = dist\n",
        "                min_pair = (t_y, t_x)\n",
        "\n",
        "        matches.append(((s_y, s_x), min_pair))\n",
        "\n",
        "    return matches"
      ]
    },
    {
      "cell_type": "markdown",
      "metadata": {
        "id": "45gKwJyEQnZz"
      },
      "source": [
        "## Demonstration"
      ]
    },
    {
      "cell_type": "markdown",
      "metadata": {
        "id": "0ulfH9K6Qp89"
      },
      "source": [
        "### Loading the object that we want to detect"
      ]
    },
    {
      "cell_type": "code",
      "execution_count": null,
      "metadata": {
        "colab": {
          "base_uri": "https://localhost:8080/",
          "height": 117
        },
        "id": "UE3KO3oBzJQo",
        "outputId": "e3d94909-902f-4a08-aeb1-b08a520054d9"
      },
      "outputs": [],
      "source": [
        "source = cv_grayread('source.png', asfloat=True)\n",
        "\n",
        "cv_imshow(source)"
      ]
    },
    {
      "cell_type": "markdown",
      "metadata": {
        "id": "exGAtOPbQt9u"
      },
      "source": [
        "### Loading the scene where we want to detect the object"
      ]
    },
    {
      "cell_type": "code",
      "execution_count": null,
      "metadata": {
        "colab": {
          "base_uri": "https://localhost:8080/",
          "height": 167
        },
        "id": "dpsifvdBnlnY",
        "outputId": "b4680738-0225-4b43-d994-9589d386afb4"
      },
      "outputs": [],
      "source": [
        "baseline = cv_grayread('baseline.png', asfloat=True)\n",
        "\n",
        "cv_imshow(baseline)"
      ]
    },
    {
      "cell_type": "markdown",
      "metadata": {
        "id": "oeVwXvJ0Rh87"
      },
      "source": [
        "### Finding the matches"
      ]
    },
    {
      "cell_type": "code",
      "execution_count": null,
      "metadata": {
        "colab": {
          "base_uri": "https://localhost:8080/",
          "height": 167
        },
        "id": "eg59F8fK0FvO",
        "outputId": "b923e63a-e226-4776-e2bb-2f6637277781"
      },
      "outputs": [],
      "source": [
        "matches = calculate_matches(source, baseline)\n",
        "\n",
        "draw_matches(source, baseline, matches)"
      ]
    },
    {
      "cell_type": "markdown",
      "metadata": {
        "id": "fh_y_wzXRrVd"
      },
      "source": [
        "### Testing the framework with other images"
      ]
    },
    {
      "cell_type": "code",
      "execution_count": null,
      "metadata": {
        "id": "1B9JHjwr-YTs"
      },
      "outputs": [],
      "source": [
        "NAMES = [\n",
        "    'brightness-low',\n",
        "    'brightness-high',\n",
        "    'contrast-low',\n",
        "    'contrast-high',\n",
        "    'noise',\n",
        "    'rotation-90',\n",
        "    'rotation-180',\n",
        "    'rotation-270',\n",
        "    'rotation-45',\n",
        "    'rotation-135',\n",
        "    'rotation-225',\n",
        "    'rotation-315',\n",
        "    'warp-top',\n",
        "    'warp-bottom',\n",
        "    'warp-left',\n",
        "    'warp-right',\n",
        "]"
      ]
    },
    {
      "cell_type": "code",
      "execution_count": null,
      "metadata": {
        "colab": {
          "base_uri": "https://localhost:8080/",
          "height": 1000
        },
        "id": "GjKcr-cB-YRQ",
        "outputId": "a8151fc8-eb18-44bd-a1d2-8fc5bc5bbd4e"
      },
      "outputs": [],
      "source": [
        "for name in NAMES:\n",
        "    target = cv_grayread(f'{name}.png', asfloat=True)\n",
        "    matches = calculate_matches(source, target)\n",
        "    draw_matches(source, target, matches)"
      ]
    },
    {
      "cell_type": "markdown",
      "metadata": {
        "id": "yeqlUsEC6lqA"
      },
      "source": [
        "You can click on the ![toc.png](data:image/png;base64,iVBORw0KGgoAAAANSUhEUgAAABEAAAAQCAYAAADwMZRfAAAAwnpUWHRSYXcgcHJvZmlsZSB0eXBlIGV4aWYAAHjabVBBDgMhCLz7ij4BBRWf43Zt0h/0+R0XNl3bTuIwgBmRMF7PR7hNpChBctXSSiFAmrTUIZQM/eBIcrAlHpEv9XDWKaHEiGypFr9/1j8GFjpUvhjp3Rvb2mji/vpllCzwnGjq3Y2aG3GyRnSDbt+i0rRev7ANWqF2wiTRdeyfvGJ7e8Y7nNLgyARmFhuA5+HAHULBEZcwMGfo2Zxc3QwL+benE+EN1w1ZCnyfz3IAAAGDaUNDUElDQyBwcm9maWxlAAB4nH2RPUjDQBzFX1PFIhXBdhBxyFCd7KIijrUKRagQaoVWHUwu/YImDUmKi6PgWnDwY7Hq4OKsq4OrIAh+gLi6OCm6SIn/SwotYjw47se7e4+7d4DQrDLN6kkAmm6bmVRSzOVXxb5XhBDGECIIyswy5iQpDd/xdY8AX+/iPMv/3J9jQC1YDAiIxAlmmDbxBvHMpm1w3ieOsrKsEp8TT5h0QeJHrisev3EuuSzwzKiZzcwTR4nFUhcrXczKpkY8TRxTNZ3yhZzHKuctzlq1ztr35C8MF/SVZa7THEUKi1iCBBEK6qigChtxWnVSLGRoP+njH3H9ErkUclXAyLGAGjTIrh/8D353axWnJr2kcBLofXGcjzGgbxdoNRzn+9hxWidA8Bm40jv+WhOY/SS90dFiR8DgNnBx3dGUPeByBxh+MmRTdqUgTaFYBN7P6JvyQOQW6F/zemvv4/QByFJX6Rvg4BAYL1H2us+7Q929/Xum3d8PMWZyjH7MXn4AAA14aVRYdFhNTDpjb20uYWRvYmUueG1wAAAAAAA8P3hwYWNrZXQgYmVnaW49Iu+7vyIgaWQ9Ilc1TTBNcENlaGlIenJlU3pOVGN6a2M5ZCI/Pgo8eDp4bXBtZXRhIHhtbG5zOng9ImFkb2JlOm5zOm1ldGEvIiB4OnhtcHRrPSJYTVAgQ29yZSA0LjQuMC1FeGl2MiI+CiA8cmRmOlJERiB4bWxuczpyZGY9Imh0dHA6Ly93d3cudzMub3JnLzE5OTkvMDIvMjItcmRmLXN5bnRheC1ucyMiPgogIDxyZGY6RGVzY3JpcHRpb24gcmRmOmFib3V0PSIiCiAgICB4bWxuczp4bXBNTT0iaHR0cDovL25zLmFkb2JlLmNvbS94YXAvMS4wL21tLyIKICAgIHhtbG5zOnN0RXZ0PSJodHRwOi8vbnMuYWRvYmUuY29tL3hhcC8xLjAvc1R5cGUvUmVzb3VyY2VFdmVudCMiCiAgICB4bWxuczpkYz0iaHR0cDovL3B1cmwub3JnL2RjL2VsZW1lbnRzLzEuMS8iCiAgICB4bWxuczpHSU1QPSJodHRwOi8vd3d3LmdpbXAub3JnL3htcC8iCiAgICB4bWxuczp0aWZmPSJodHRwOi8vbnMuYWRvYmUuY29tL3RpZmYvMS4wLyIKICAgIHhtbG5zOnhtcD0iaHR0cDovL25zLmFkb2JlLmNvbS94YXAvMS4wLyIKICAgeG1wTU06RG9jdW1lbnRJRD0iZ2ltcDpkb2NpZDpnaW1wOmVjZGEyM2M2LWE3NTEtNDU5YS1hNDkyLWQzODNmZThmMzAxMiIKICAgeG1wTU06SW5zdGFuY2VJRD0ieG1wLmlpZDpmNDA1OWQ2Ny0wOWNjLTQ3MzQtOTdiYy0zYzYwMmQyNTY0MjUiCiAgIHhtcE1NOk9yaWdpbmFsRG9jdW1lbnRJRD0ieG1wLmRpZDo4MmY2NDcxOS0xMGRmLTQyMTgtOTk3Yi0zMmI5ZDg1NmM1YTAiCiAgIGRjOkZvcm1hdD0iaW1hZ2UvcG5nIgogICBHSU1QOkFQST0iMi4wIgogICBHSU1QOlBsYXRmb3JtPSJMaW51eCIKICAgR0lNUDpUaW1lU3RhbXA9IjE2OTE4NjQ0MjcxMjYzODAiCiAgIEdJTVA6VmVyc2lvbj0iMi4xMC4zNCIKICAgdGlmZjpPcmllbnRhdGlvbj0iMSIKICAgeG1wOkNyZWF0b3JUb29sPSJHSU1QIDIuMTAiCiAgIHhtcDpNZXRhZGF0YURhdGU9IjIwMjM6MDg6MTJUMTU6MjA6MjctMDM6MDAiCiAgIHhtcDpNb2RpZnlEYXRlPSIyMDIzOjA4OjEyVDE1OjIwOjI3LTAzOjAwIj4KICAgPHhtcE1NOkhpc3Rvcnk+CiAgICA8cmRmOlNlcT4KICAgICA8cmRmOmxpCiAgICAgIHN0RXZ0OmFjdGlvbj0ic2F2ZWQiCiAgICAgIHN0RXZ0OmNoYW5nZWQ9Ii8iCiAgICAgIHN0RXZ0Omluc3RhbmNlSUQ9InhtcC5paWQ6Yjc4MzM5ODEtYWE5Yy00MDk2LThhMzgtZmZlYTRlNzIxYmI4IgogICAgICBzdEV2dDpzb2Z0d2FyZUFnZW50PSJHaW1wIDIuMTAgKExpbnV4KSIKICAgICAgc3RFdnQ6d2hlbj0iMjAyMy0wOC0xMlQxNToyMDoyNy0wMzowMCIvPgogICAgPC9yZGY6U2VxPgogICA8L3htcE1NOkhpc3Rvcnk+CiAgPC9yZGY6RGVzY3JpcHRpb24+CiA8L3JkZjpSREY+CjwveDp4bXBtZXRhPgogICAgICAgICAgICAgICAgICAgICAgICAgICAgICAgICAgICAgICAgICAgICAgICAgICAgICAgICAgICAgICAgICAgICAgICAgICAgICAgICAgICAgICAgICAgICAgICAgICAgCiAgICAgICAgICAgICAgICAgICAgICAgICAgICAgICAgICAgICAgICAgICAgICAgICAgICAgICAgICAgICAgICAgICAgICAgICAgICAgICAgICAgICAgICAgICAgICAgICAgICAKICAgICAgICAgICAgICAgICAgICAgICAgICAgICAgICAgICAgICAgICAgICAgICAgICAgICAgICAgICAgICAgICAgICAgICAgICAgICAgICAgICAgICAgICAgICAgICAgICAgIAogICAgICAgICAgICAgICAgICAgICAgICAgICAgICAgICAgICAgICAgICAgICAgICAgICAgICAgICAgICAgICAgICAgICAgICAgICAgICAgICAgICAgICAgICAgICAgICAgICAgCiAgICAgICAgICAgICAgICAgICAgICAgICAgICAgICAgICAgICAgICAgICAgICAgICAgICAgICAgICAgICAgICAgICAgICAgICAgICAgICAgICAgICAgICAgICAgICAgICAgICAKICAgICAgICAgICAgICAgICAgICAgICAgICAgICAgICAgICAgICAgICAgICAgICAgICAgICAgICAgICAgICAgICAgICAgICAgICAgICAgICAgICAgICAgICAgICAgICAgICAgIAogICAgICAgICAgICAgICAgICAgICAgICAgICAgICAgICAgICAgICAgICAgICAgICAgICAgICAgICAgICAgICAgICAgICAgICAgICAgICAgICAgICAgICAgICAgICAgICAgICAgCiAgICAgICAgICAgICAgICAgICAgICAgICAgICAgICAgICAgICAgICAgICAgICAgICAgICAgICAgICAgICAgICAgICAgICAgICAgICAgICAgICAgICAgICAgICAgICAgICAgICAKICAgICAgICAgICAgICAgICAgICAgICAgICAgICAgICAgICAgICAgICAgICAgICAgICAgICAgICAgICAgICAgICAgICAgICAgICAgICAgICAgICAgICAgICAgICAgICAgICAgIAogICAgICAgICAgICAgICAgICAgICAgICAgICAgICAgICAgICAgICAgICAgICAgICAgICAgICAgICAgICAgICAgICAgICAgICAgICAgICAgICAgICAgICAgICAgICAgICAgICAgCiAgICAgICAgICAgICAgICAgICAgICAgICAgICAgICAgICAgICAgICAgICAgICAgICAgICAgICAgICAgICAgICAgICAgICAgICAgICAgICAgICAgICAgICAgICAgICAgICAgICAKICAgICAgICAgICAgICAgICAgICAgICAgICAgICAgICAgICAgICAgICAgICAgICAgICAgICAgICAgICAgICAgICAgICAgICAgICAgICAgICAgICAgICAgICAgICAgICAgICAgIAogICAgICAgICAgICAgICAgICAgICAgICAgICAgICAgICAgICAgICAgICAgICAgICAgICAgICAgICAgICAgICAgICAgICAgICAgICAgICAgICAgICAgICAgICAgICAgICAgICAgCiAgICAgICAgICAgICAgICAgICAgICAgICAgICAgICAgICAgICAgICAgICAgICAgICAgICAgICAgICAgICAgICAgICAgICAgICAgICAgICAgICAgICAgICAgICAgICAgICAgICAKICAgICAgICAgICAgICAgICAgICAgICAgICAgICAgICAgICAgICAgICAgICAgICAgICAgICAgICAgICAgICAgICAgICAgICAgICAgICAgICAgICAgICAgICAgICAgICAgICAgIAogICAgICAgICAgICAgICAgICAgICAgICAgICAgICAgICAgICAgICAgICAgICAgICAgICAgICAgICAgICAgICAgICAgICAgICAgICAgICAgICAgICAgICAgICAgICAgICAgICAgCiAgICAgICAgICAgICAgICAgICAgICAgICAgICAgICAgICAgICAgICAgICAgICAgICAgICAgICAgICAgICAgICAgICAgICAgICAgICAgICAgICAgICAgICAgICAgICAgICAgICAKICAgICAgICAgICAgICAgICAgICAgICAgICAgICAgICAgICAgICAgICAgICAgICAgICAgICAgICAgICAgICAgICAgICAgICAgICAgICAgICAgICAgICAgICAgICAgICAgICAgIAogICAgICAgICAgICAgICAgICAgICAgICAgICAgICAgICAgICAgICAgICAgICAgICAgICAgICAgICAgICAgICAgICAgICAgICAgICAgICAgICAgICAgICAgICAgICAgICAgICAgCiAgICAgICAgICAgICAgICAgICAgICAgICAgICAgICAgICAgICAgICAgICAgICAgICAgICAgICAgICAgICAgICAgICAgICAgICAgICAgICAgICAgICAgICAgICAgICAgICAgICAKICAgICAgICAgICAgICAgICAgICAgICAgICAgCjw/eHBhY2tldCBlbmQ9InciPz55731XAAAABmJLR0QA/wD/AP+gvaeTAAAACXBIWXMAAAsTAAALEwEAmpwYAAAAB3RJTUUH5wgMEhQbBlocRAAAAN9JREFUOMutkrHJhjAYhM8fIZU4QXACm7SCA9g4hAu4gKWu4A52NtZuIBa2SkghKIIIVgbfv3AByefT38NxnEVEhB/5wwfYAFAUBaSUyPMc+75jGIZXYc45hBCPRCmF67qwriuklKjr+pUkCAIIIQAionmeqe97MsX6bNht2zCOo7HEIiJK0xTHcSDLMizLgrZtX4V930cURU8Tx3HAGINt2+ZNtNY4zxOu65pLPhm26zo0TYP7vs0fW5YltNbwPA9KKVRV9fpsSZI8kjAMMU0TOOdgjCGO49e3/3aTX/kHOqSlGyrkE5MAAAAASUVORK5CYII=) tab to the left to browse by section."
      ]
    }
  ],
  "metadata": {
    "colab": {
      "provenance": [],
      "toc_visible": true
    },
    "kernelspec": {
      "display_name": "Python 3",
      "name": "python3"
    },
    "language_info": {
      "name": "python"
    }
  },
  "nbformat": 4,
  "nbformat_minor": 0
}
