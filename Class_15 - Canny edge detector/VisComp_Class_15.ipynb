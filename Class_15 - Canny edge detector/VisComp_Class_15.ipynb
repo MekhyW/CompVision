{
  "cells": [
    {
      "cell_type": "markdown",
      "metadata": {
        "id": "ldormuK39mU1"
      },
      "source": [
        "# Class 15: Canny Detector and Hough Transform"
      ]
    },
    {
      "cell_type": "markdown",
      "metadata": {
        "id": "Ot_LD8I8AOQ6"
      },
      "source": [
        "## Preliminaries"
      ]
    },
    {
      "cell_type": "markdown",
      "metadata": {
        "id": "jrA0L5tPd_aG"
      },
      "source": [
        "Run the cell below to download the course library."
      ]
    },
    {
      "cell_type": "code",
      "execution_count": 1,
      "metadata": {
        "id": "fMqO3xXod_fM",
        "colab": {
          "base_uri": "https://localhost:8080/"
        },
        "outputId": "a89434c3-048a-48cb-d1a9-1e503716d5f2"
      },
      "outputs": [
        {
          "output_type": "stream",
          "name": "stdout",
          "text": [
            "Archive:  sdx.zip\n",
            "  inflating: sdx.py                  \n",
            "Archive:  15.zip\n",
            "  inflating: road-large.png          \n",
            "  inflating: road-small.png          \n"
          ]
        }
      ],
      "source": [
        "from urllib.request import urlretrieve\n",
        "\n",
        "urlretrieve('https://drive.google.com/uc?export=download&id=1SiLnO91qJWKomBkGhKciJSG9Hcd_zRp7', 'sdx.zip')\n",
        "!unzip -o 'sdx.zip'\n",
        "!rm 'sdx.zip'\n",
        "\n",
        "urlretrieve('https://drive.google.com/uc?export=download&id=11bJ7LOyLXeW7enh-LlOHJWJfh6cg4NPN', '15.zip')\n",
        "!unzip -o '15.zip'\n",
        "!rm '15.zip'"
      ]
    },
    {
      "cell_type": "markdown",
      "metadata": {
        "id": "qLYdrANx9t0n"
      },
      "source": [
        "Run the cell below to import the class modules.\n",
        "\n",
        "If you get import warnings, try using **`Ctrl+M .`** to restart the kernel. *(notice there is a dot there)*"
      ]
    },
    {
      "cell_type": "code",
      "execution_count": 2,
      "metadata": {
        "id": "x3QrEMEhje9z"
      },
      "outputs": [],
      "source": [
        "import cv2 as cv\n",
        "import seaborn as sns\n",
        "\n",
        "from sdx import *"
      ]
    },
    {
      "cell_type": "markdown",
      "source": [
        "## Loading input image"
      ],
      "metadata": {
        "id": "BTGGWlSztGny"
      }
    },
    {
      "cell_type": "code",
      "source": [
        "image = cv_grayread('road-small.png')\n",
        "\n",
        "height, width = image.shape\n",
        "\n",
        "cv_imshow(image)"
      ],
      "metadata": {
        "id": "UmD2IT3LG43l",
        "colab": {
          "base_uri": "https://localhost:8080/",
          "height": 209
        },
        "outputId": "e3dbbcc9-56a1-48ad-fd82-e1c7237df840"
      },
      "execution_count": 3,
      "outputs": [
        {
          "output_type": "display_data",
          "data": {
            "text/plain": [
              "<PIL.Image.Image image mode=L size=256x192>"
            ],
            "image/png": "[encoded data removed]"
          },
          "metadata": {}
        }
      ]
    },
    {
      "cell_type": "markdown",
      "source": [
        "## Detecting Canny edges"
      ],
      "metadata": {
        "id": "CgFxMa_Ps5UE"
      }
    },
    {
      "cell_type": "code",
      "source": [
        "canny = cv.Canny(image, 300, 400)\n",
        "\n",
        "canny_y, canny_x = (canny == 255).nonzero()\n",
        "\n",
        "cv_imshow(canny)"
      ],
      "metadata": {
        "id": "Hfmg7kT4G4yg",
        "colab": {
          "base_uri": "https://localhost:8080/",
          "height": 209
        },
        "outputId": "58092bbf-b043-45ac-8836-3808d452dd9e"
      },
      "execution_count": 4,
      "outputs": [
        {
          "output_type": "display_data",
          "data": {
            "text/plain": [
              "<PIL.Image.Image image mode=L size=256x192>"
            ],
            "image/png": "[encoded data removed]"
          },
          "metadata": {}
        }
      ]
    },
    {
      "cell_type": "markdown",
      "source": [
        "## Defining Hough precisions"
      ],
      "metadata": {
        "id": "2F7cN8dVtAOo"
      }
    },
    {
      "cell_type": "code",
      "source": [
        "ANGLE_PRECISION = 5\n",
        "\n",
        "DISTANCE_PRECISION = 5"
      ],
      "metadata": {
        "id": "nF__9Gzd1ggL"
      },
      "execution_count": 5,
      "outputs": []
    },
    {
      "cell_type": "markdown",
      "source": [
        "## Calculating quantized angles"
      ],
      "metadata": {
        "id": "XyLNtp-9slSN"
      }
    },
    {
      "cell_type": "code",
      "source": [
        "step_angle = (np.pi / 180) * ANGLE_PRECISION\n",
        "\n",
        "num_angles = int(np.pi / step_angle)\n",
        "\n",
        "angles = [index * step_angle for index in range(num_angles)]"
      ],
      "metadata": {
        "id": "EbKIRzPTDbVw"
      },
      "execution_count": 6,
      "outputs": []
    },
    {
      "cell_type": "markdown",
      "source": [
        "### First five angles"
      ],
      "metadata": {
        "id": "FRkOpyWdsemx"
      }
    },
    {
      "cell_type": "code",
      "source": [
        "angles[:5]"
      ],
      "metadata": {
        "id": "ONzBeG79lFtA",
        "colab": {
          "base_uri": "https://localhost:8080/"
        },
        "outputId": "972c743c-c820-4e5b-c599-0ad592ccf921"
      },
      "execution_count": 7,
      "outputs": [
        {
          "output_type": "execute_result",
          "data": {
            "text/plain": [
              "[0.0,\n",
              " 0.08726646259971647,\n",
              " 0.17453292519943295,\n",
              " 0.2617993877991494,\n",
              " 0.3490658503988659]"
            ]
          },
          "metadata": {},
          "execution_count": 7
        }
      ]
    },
    {
      "cell_type": "markdown",
      "source": [
        "### Last five angles"
      ],
      "metadata": {
        "id": "2kEbAg71seW2"
      }
    },
    {
      "cell_type": "code",
      "source": [
        "angles[-5:]"
      ],
      "metadata": {
        "id": "XfPC-5qflFor",
        "colab": {
          "base_uri": "https://localhost:8080/"
        },
        "outputId": "b9d1f719-385d-4610-b3d2-ba02cbbc6c45"
      },
      "execution_count": 8,
      "outputs": [
        {
          "output_type": "execute_result",
          "data": {
            "text/plain": [
              "[2.705260340591211,\n",
              " 2.792526803190927,\n",
              " 2.8797932657906435,\n",
              " 2.96705972839036,\n",
              " 3.0543261909900767]"
            ]
          },
          "metadata": {},
          "execution_count": 8
        }
      ]
    },
    {
      "cell_type": "markdown",
      "source": [
        "## Calculating quantized distances"
      ],
      "metadata": {
        "id": "KywEXjT31gww"
      }
    },
    {
      "cell_type": "code",
      "source": [
        "max_distance = np.sqrt(width**2 + height**2)\n",
        "\n",
        "num_distances = round(2 * max_distance / DISTANCE_PRECISION)\n",
        "\n",
        "distances = [index * DISTANCE_PRECISION - max_distance for index in range(num_distances)]"
      ],
      "metadata": {
        "id": "-n_O5jGa1g5o"
      },
      "execution_count": 9,
      "outputs": []
    },
    {
      "cell_type": "markdown",
      "source": [
        "### First five distances"
      ],
      "metadata": {
        "id": "XfqduwLrsJhZ"
      }
    },
    {
      "cell_type": "code",
      "source": [
        "distances[:5]"
      ],
      "metadata": {
        "id": "6yx6Lz7-kyKr",
        "colab": {
          "base_uri": "https://localhost:8080/"
        },
        "outputId": "e688d0ac-26b8-4185-d1ea-16ddaf91111f"
      },
      "execution_count": 10,
      "outputs": [
        {
          "output_type": "execute_result",
          "data": {
            "text/plain": [
              "[-320.0, -315.0, -310.0, -305.0, -300.0]"
            ]
          },
          "metadata": {},
          "execution_count": 10
        }
      ]
    },
    {
      "cell_type": "markdown",
      "source": [
        "### Last five distances"
      ],
      "metadata": {
        "id": "i_pjvsJ7sNed"
      }
    },
    {
      "cell_type": "code",
      "source": [
        "distances[-5:]"
      ],
      "metadata": {
        "id": "nTYobbKmk129",
        "colab": {
          "base_uri": "https://localhost:8080/"
        },
        "outputId": "5449fd99-1193-4adb-ad31-5573219f8476"
      },
      "execution_count": 11,
      "outputs": [
        {
          "output_type": "execute_result",
          "data": {
            "text/plain": [
              "[295.0, 300.0, 305.0, 310.0, 315.0]"
            ]
          },
          "metadata": {},
          "execution_count": 11
        }
      ]
    },
    {
      "cell_type": "markdown",
      "source": [
        "## Calculating accumulation matrix"
      ],
      "metadata": {
        "id": "QyA11lK21hC8"
      }
    },
    {
      "cell_type": "code",
      "source": [
        "matrix = np.zeros((num_distances, num_angles))\n",
        "\n",
        "for y, x in zip(canny_y, canny_x):\n",
        "  for j, t in enumerate(angles):\n",
        "    r = x * np.cos(t) + y * np.sin(t)\n",
        "    i = round((r + max_distance) / DISTANCE_PRECISION)\n",
        "    matrix[i, j] += 1"
      ],
      "metadata": {
        "id": "ExmHRM1SDbSH"
      },
      "execution_count": 13,
      "outputs": []
    },
    {
      "cell_type": "markdown",
      "source": [
        "## Visualizing accumulation matrix"
      ],
      "metadata": {
        "id": "z2qCs_ZIr_kQ"
      }
    },
    {
      "cell_type": "code",
      "source": [
        "sns.heatmap(matrix);"
      ],
      "metadata": {
        "id": "nU4dN6XtDbOT",
        "colab": {
          "base_uri": "https://localhost:8080/",
          "height": 440
        },
        "outputId": "9f91dae0-2a65-4591-f87c-d0229e98f25e"
      },
      "execution_count": 14,
      "outputs": [
        {
          "output_type": "display_data",
          "data": {
            "text/plain": [
              "<Figure size 640x480 with 2 Axes>"
            ],
            "image/png": "[encoded data removed]"
          },
          "metadata": {}
        }
      ]
    },
    {
      "cell_type": "markdown",
      "source": [
        "## Finding best line"
      ],
      "metadata": {
        "id": "pGupC51yrou9"
      }
    },
    {
      "cell_type": "code",
      "source": [
        "max_i, max_j = np.unravel_index(matrix.argmax(), matrix.shape)\n",
        "\n",
        "t = angles[max_j]\n",
        "\n",
        "r = distances[max_i]"
      ],
      "metadata": {
        "id": "NXKPP8sOf2XL"
      },
      "execution_count": 15,
      "outputs": []
    },
    {
      "cell_type": "markdown",
      "source": [
        "## Drawing best line"
      ],
      "metadata": {
        "id": "rmBc98k0rk0X"
      }
    },
    {
      "cell_type": "code",
      "source": [
        "output_image = cv.cvtColor(canny, cv.COLOR_GRAY2BGR)\n",
        "\n",
        "a_x = 0\n",
        "a_y = round((r - a_x * np.cos(t)) / np.sin(t))\n",
        "\n",
        "b_x = width - 1\n",
        "b_y = round((r - b_x * np.cos(t)) / np.sin(t))\n",
        "\n",
        "cv.line(output_image, (a_x, a_y), (b_x, b_y), (0, 0, 255))\n",
        "\n",
        "cv_imshow(output_image)"
      ],
      "metadata": {
        "id": "R2u-za-sDbDt",
        "colab": {
          "base_uri": "https://localhost:8080/",
          "height": 209
        },
        "outputId": "1faf634c-ad23-4ca2-e2cd-907e41ffffdd"
      },
      "execution_count": 16,
      "outputs": [
        {
          "output_type": "display_data",
          "data": {
            "text/plain": [
              "<PIL.Image.Image image mode=RGB size=256x192>"
            ],
            "image/png": "[encoded data removed]"
          },
          "metadata": {}
        }
      ]
    },
    {
      "cell_type": "markdown",
      "metadata": {
        "id": "yeqlUsEC6lqA"
      },
      "source": [
        "You can click on the ![toc.png](data:image/png;base64,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) tab to the left to browse by section."
      ]
    }
  ],
  "metadata": {
    "colab": {
      "provenance": []
    },
    "kernelspec": {
      "display_name": "Python 3",
      "name": "python3"
    },
    "language_info": {
      "name": "python"
    }
  },
  "nbformat": 4,
  "nbformat_minor": 0
}