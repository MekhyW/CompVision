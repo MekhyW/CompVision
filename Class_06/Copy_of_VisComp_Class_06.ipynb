{
  "nbformat": 4,
  "nbformat_minor": 0,
  "metadata": {
    "colab": {
      "provenance": [],
      "toc_visible": true
    },
    "kernelspec": {
      "name": "python3",
      "display_name": "Python 3"
    },
    "language_info": {
      "name": "python"
    }
  },
  "cells": [
    {
      "cell_type": "markdown",
      "source": [
        "# Class 6: Image Smoothing and Convolutional Filters"
      ],
      "metadata": {
        "id": "ldormuK39mU1"
      }
    },
    {
      "cell_type": "markdown",
      "source": [
        "## Preliminaries"
      ],
      "metadata": {
        "id": "Ot_LD8I8AOQ6"
      }
    },
    {
      "cell_type": "markdown",
      "source": [
        "Run the cell below to download the course library and class resources."
      ],
      "metadata": {
        "id": "Ek7agefuszoy"
      }
    },
    {
      "cell_type": "code",
      "source": [
        "import gdown\n",
        "\n",
        "gdown.download(id='1SzvuBYIZ407c9eOChXD48NG94v7azJby')\n",
        "gdown.download(id='1K8nNMjlhWPTgL4OyozYCLaduGmvx1WO-')\n",
        "\n",
        "!unzip -o '06.zip'\n",
        "!rm '06.zip'"
      ],
      "metadata": {
        "id": "yZJ4BWWZszhq"
      },
      "execution_count": null,
      "outputs": []
    },
    {
      "cell_type": "markdown",
      "source": [
        "Run the cell below to import the class modules.\n",
        "\n",
        "If you get import warnings, try using **`Ctrl+M .`** to restart the kernel. *(notice there is a dot there)*"
      ],
      "metadata": {
        "id": "qLYdrANx9t0n"
      }
    },
    {
      "cell_type": "code",
      "execution_count": null,
      "metadata": {
        "id": "eb5nYmlg48g3"
      },
      "outputs": [],
      "source": [
        "import numpy as np\n",
        "import cv2 as cv\n",
        "\n",
        "from sdx import *"
      ]
    },
    {
      "cell_type": "markdown",
      "source": [
        "## Choosing an image"
      ],
      "metadata": {
        "id": "tcA8f3ALQzOl"
      }
    },
    {
      "cell_type": "markdown",
      "source": [
        "Image smoothing is a process with inevitable tradeoff: the more noise you reduce, the more details you lose. To illustrate this tradeoff, the idea of this notebook is testing your code with 18 different images: the combinations of 6 different sources and 3 different severities of noise."
      ],
      "metadata": {
        "id": "wcmTBC0DBxpz"
      }
    },
    {
      "cell_type": "markdown",
      "source": [
        "The options of source are: `smash`, `atletica`, `consulting`, `insper`, `informatica`, and `harvard`. Half of these sources are logos and the other half are photos. Some have more uniform regions and some have more small details.\n",
        "\n"
      ],
      "metadata": {
        "id": "TNfK1Ku5nHUE"
      }
    },
    {
      "cell_type": "code",
      "source": [
        "SOURCE = 'insper'"
      ],
      "metadata": {
        "id": "5jZx0Jb_mtKE"
      },
      "execution_count": null,
      "outputs": []
    },
    {
      "cell_type": "markdown",
      "source": [
        "The options of severity are `8`, `16`, and `32`. The number represents the approximate percentage of levels that are slightly below or above."
      ],
      "metadata": {
        "id": "n592yAPjqzO-"
      }
    },
    {
      "cell_type": "code",
      "source": [
        "SEVERITY = 8"
      ],
      "metadata": {
        "id": "YZuAuzqbQzDC"
      },
      "execution_count": null,
      "outputs": []
    },
    {
      "cell_type": "markdown",
      "source": [
        "## Loading and displaying the image"
      ],
      "metadata": {
        "id": "K3a6DyB_rga3"
      }
    },
    {
      "cell_type": "markdown",
      "source": [
        "Like in Class 4, we will use the `asfloat=True` parameter to read the image as a 64-bit float array."
      ],
      "metadata": {
        "id": "mqeaW2YusMtb"
      }
    },
    {
      "cell_type": "code",
      "source": [
        "input = cv_grayread(f'{SOURCE}-{SEVERITY}.png', asfloat=True)\n",
        "\n",
        "cv_imshow(input)"
      ],
      "metadata": {
        "id": "95Cl7M2DrgYL"
      },
      "execution_count": null,
      "outputs": []
    },
    {
      "cell_type": "markdown",
      "source": [
        "## Activity 0: simple smoothing"
      ],
      "metadata": {
        "id": "Ub1ApPddwOVg"
      }
    },
    {
      "cell_type": "markdown",
      "source": [
        "Read and understand the code below. All the details. They might be useful."
      ],
      "metadata": {
        "id": "EpAd6r7TwOPg"
      }
    },
    {
      "cell_type": "code",
      "source": [
        "def simple_smooth(input, size):\n",
        "    height, width = input.shape\n",
        "\n",
        "    radius = size // 2\n",
        "\n",
        "    total = size ** 2\n",
        "\n",
        "    output = np.empty((height - 2 * radius, width - 2 * radius))\n",
        "\n",
        "    for oy, iy in enumerate(range(radius, height - radius)):\n",
        "        for ox, ix in enumerate(range(radius, width - radius)):\n",
        "             sum = 0\n",
        "\n",
        "             for dy in range(-radius, radius + 1):\n",
        "                 for dx in range(-radius, radius + 1):\n",
        "                     sum += input[iy + dy, ix + dx]\n",
        "\n",
        "             output[oy, ox] = sum / total\n",
        "\n",
        "    return output"
      ],
      "metadata": {
        "id": "ScErgusVrgUo"
      },
      "execution_count": null,
      "outputs": []
    },
    {
      "cell_type": "markdown",
      "source": [
        "You can use the image below as a benchmark for the next activities."
      ],
      "metadata": {
        "id": "6HiN0VRgztMP"
      }
    },
    {
      "cell_type": "code",
      "source": [
        "cv_imshow(simple_smooth(input, 3))"
      ],
      "metadata": {
        "id": "otUTEoIxrgRB"
      },
      "execution_count": null,
      "outputs": []
    },
    {
      "cell_type": "markdown",
      "source": [
        "## Activity 1: simple kernel"
      ],
      "metadata": {
        "id": "mV7EWxQDu4DR"
      }
    },
    {
      "cell_type": "markdown",
      "source": [
        "Write a function that receives a positive integer `size` and returns a `size`x`size` NumPy array where each element is `1 / size ** 2`.\n",
        "\n",
        "Try to avoid using loops. Research for useful NumPy array constructors."
      ],
      "metadata": {
        "id": "z1JBKjX1yZ-W"
      }
    },
    {
      "cell_type": "code",
      "source": [
        "def simple_kernel(size):\n",
        "    return np.ones((size, size)) * 1/(size**2)"
      ],
      "metadata": {
        "id": "PMhRG8Ihu4AS"
      },
      "execution_count": null,
      "outputs": []
    },
    {
      "cell_type": "markdown",
      "source": [
        "If your function is working, the next cell should display the following result.\n",
        "\n",
        "```\n",
        "array([[0.11111111, 0.11111111, 0.11111111],\n",
        "       [0.11111111, 0.11111111, 0.11111111],\n",
        "       [0.11111111, 0.11111111, 0.11111111]])\n",
        "```"
      ],
      "metadata": {
        "id": "tiSP4XExyIQo"
      }
    },
    {
      "cell_type": "code",
      "source": [
        "simple_kernel(3)"
      ],
      "metadata": {
        "id": "k7Zyf7hwu39p"
      },
      "execution_count": null,
      "outputs": []
    },
    {
      "cell_type": "markdown",
      "source": [
        "## Activity 2: convolutional smoothing"
      ],
      "metadata": {
        "id": "zsYqI1zPzTvw"
      }
    },
    {
      "cell_type": "markdown",
      "source": [
        "This time, *do* use loops. The `scipy` library has the `signal.convolve2d` function, but do *not* use it or any other already implemented solution. In this particular activity, it's important to think about the implementation."
      ],
      "metadata": {
        "id": "VrrcCW7y1Mfg"
      }
    },
    {
      "cell_type": "code",
      "source": [
        "def convolution_smooth(input, kernel):\n",
        "    size = kernel.shape[0]\n",
        "    padding = size//2\n",
        "    output = np.zeros(input.shape)\n",
        "    for i in range(padding, input.shape[0] - padding):\n",
        "      for j in range(padding, input.shape[1] - padding):\n",
        "        output[i,j] = np.sum(input[i-padding:i+padding+1, j-padding:j+padding+1] * kernel)\n",
        "    return output"
      ],
      "metadata": {
        "id": "mOsLkpjiu36p"
      },
      "execution_count": null,
      "outputs": []
    },
    {
      "cell_type": "markdown",
      "source": [
        "Validate your code by comparing the output below with the output from Activity 0."
      ],
      "metadata": {
        "id": "uCkoI4RS17En"
      }
    },
    {
      "cell_type": "code",
      "source": [
        "kernel = simple_kernel(3)\n",
        "\n",
        "cv_imshow(convolution_smooth(input, kernel))"
      ],
      "metadata": {
        "id": "UJnulOMKu33s"
      },
      "execution_count": null,
      "outputs": []
    },
    {
      "cell_type": "markdown",
      "source": [
        "## Challenge 1: gaussian kernel"
      ],
      "metadata": {
        "id": "dLmF9l4Yu305"
      }
    },
    {
      "cell_type": "markdown",
      "source": [
        "Write a function that receives a positive integer `size` and a float `sigma` and returns a `size`x`size` NumPy array where each element is given by the formula below. **However, when applying this formula, you must assume that the origin is at the center of the array**.\n",
        "\n",
        "$$\\frac{e^{-(x^2+y^2)/2\\sigma^2}}{2\\pi\\sigma^2}$$\n",
        "\n",
        "Again, please avoid already implemented solutions this time."
      ],
      "metadata": {
        "id": "bBDZvMu92zWm"
      }
    },
    {
      "cell_type": "code",
      "source": [
        "from math import pi, e\n",
        "\n",
        "def gaussian_kernel(size, sigma):\n",
        "    kernel = np.zeros([size, size])\n",
        "    for i in range(size):\n",
        "      for j in range(size):\n",
        "        x = i - size/2\n",
        "        y = j - size/2\n",
        "        kernel[i][j] = e**((-(x**2 + y**2))/(2*(sigma**2)))/(2*pi*(sigma**2))\n",
        "    return kernel"
      ],
      "metadata": {
        "id": "corv2Kkwu3yN"
      },
      "execution_count": null,
      "outputs": []
    },
    {
      "cell_type": "markdown",
      "source": [
        "Once you are done, compare the output of the simple kernel with the gaussian kernel."
      ],
      "metadata": {
        "id": "smtpTqeU2KnH"
      }
    },
    {
      "cell_type": "code",
      "source": [
        "kernel = gaussian_kernel(3, 1)\n",
        "\n",
        "cv_imshow(convolution_smooth(input, kernel))"
      ],
      "metadata": {
        "id": "N2xF2_yau3qJ"
      },
      "execution_count": null,
      "outputs": []
    },
    {
      "cell_type": "markdown",
      "source": [
        "## Challenge 2: critical thinking"
      ],
      "metadata": {
        "id": "PLBa7U7O32PN"
      }
    },
    {
      "cell_type": "markdown",
      "source": [
        "If your code is working correctly, you see an image that is smoother, but also darker. What happened?"
      ],
      "metadata": {
        "id": "TxxmImQ232KF"
      }
    },
    {
      "cell_type": "markdown",
      "source": [
        "A operação de filtro gaussiano gera uma média que tem o peso dependendo da distância do centro da imagem. Ou seja, por ser uma média, os valores de cada píxel são diminuídos e assim o brilho também diminui."
      ],
      "metadata": {
        "id": "YxbjV4LL35o2"
      }
    },
    {
      "cell_type": "markdown",
      "source": [
        "You can click on the ![toc.png](data:image/png;base64,iVBORw0KGgoAAAANSUhEUgAAABEAAAAQCAYAAADwMZRfAAAAwnpUWHRSYXcgcHJvZmlsZSB0eXBlIGV4aWYAAHjabVBBDgMhCLz7ij4BBRWf43Zt0h/0+R0XNl3bTuIwgBmRMF7PR7hNpChBctXSSiFAmrTUIZQM/eBIcrAlHpEv9XDWKaHEiGypFr9/1j8GFjpUvhjp3Rvb2mji/vpllCzwnGjq3Y2aG3GyRnSDbt+i0rRev7ANWqF2wiTRdeyfvGJ7e8Y7nNLgyARmFhuA5+HAHULBEZcwMGfo2Zxc3QwL+benE+EN1w1ZCnyfz3IAAAGDaUNDUElDQyBwcm9maWxlAAB4nH2RPUjDQBzFX1PFIhXBdhBxyFCd7KIijrUKRagQaoVWHUwu/YImDUmKi6PgWnDwY7Hq4OKsq4OrIAh+gLi6OCm6SIn/SwotYjw47se7e4+7d4DQrDLN6kkAmm6bmVRSzOVXxb5XhBDGECIIyswy5iQpDd/xdY8AX+/iPMv/3J9jQC1YDAiIxAlmmDbxBvHMpm1w3ieOsrKsEp8TT5h0QeJHrisev3EuuSzwzKiZzcwTR4nFUhcrXczKpkY8TRxTNZ3yhZzHKuctzlq1ztr35C8MF/SVZa7THEUKi1iCBBEK6qigChtxWnVSLGRoP+njH3H9ErkUclXAyLGAGjTIrh/8D353axWnJr2kcBLofXGcjzGgbxdoNRzn+9hxWidA8Bm40jv+WhOY/SS90dFiR8DgNnBx3dGUPeByBxh+MmRTdqUgTaFYBN7P6JvyQOQW6F/zemvv4/QByFJX6Rvg4BAYL1H2us+7Q929/Xum3d8PMWZyjH7MXn4AAA14aVRYdFhNTDpjb20uYWRvYmUueG1wAAAAAAA8P3hwYWNrZXQgYmVnaW49Iu+7vyIgaWQ9Ilc1TTBNcENlaGlIenJlU3pOVGN6a2M5ZCI/Pgo8eDp4bXBtZXRhIHhtbG5zOng9ImFkb2JlOm5zOm1ldGEvIiB4OnhtcHRrPSJYTVAgQ29yZSA0LjQuMC1FeGl2MiI+CiA8cmRmOlJERiB4bWxuczpyZGY9Imh0dHA6Ly93d3cudzMub3JnLzE5OTkvMDIvMjItcmRmLXN5bnRheC1ucyMiPgogIDxyZGY6RGVzY3JpcHRpb24gcmRmOmFib3V0PSIiCiAgICB4bWxuczp4bXBNTT0iaHR0cDovL25zLmFkb2JlLmNvbS94YXAvMS4wL21tLyIKICAgIHhtbG5zOnN0RXZ0PSJodHRwOi8vbnMuYWRvYmUuY29tL3hhcC8xLjAvc1R5cGUvUmVzb3VyY2VFdmVudCMiCiAgICB4bWxuczpkYz0iaHR0cDovL3B1cmwub3JnL2RjL2VsZW1lbnRzLzEuMS8iCiAgICB4bWxuczpHSU1QPSJodHRwOi8vd3d3LmdpbXAub3JnL3htcC8iCiAgICB4bWxuczp0aWZmPSJodHRwOi8vbnMuYWRvYmUuY29tL3RpZmYvMS4wLyIKICAgIHhtbG5zOnhtcD0iaHR0cDovL25zLmFkb2JlLmNvbS94YXAvMS4wLyIKICAgeG1wTU06RG9jdW1lbnRJRD0iZ2ltcDpkb2NpZDpnaW1wOmVjZGEyM2M2LWE3NTEtNDU5YS1hNDkyLWQzODNmZThmMzAxMiIKICAgeG1wTU06SW5zdGFuY2VJRD0ieG1wLmlpZDpmNDA1OWQ2Ny0wOWNjLTQ3MzQtOTdiYy0zYzYwMmQyNTY0MjUiCiAgIHhtcE1NOk9yaWdpbmFsRG9jdW1lbnRJRD0ieG1wLmRpZDo4MmY2NDcxOS0xMGRmLTQyMTgtOTk3Yi0zMmI5ZDg1NmM1YTAiCiAgIGRjOkZvcm1hdD0iaW1hZ2UvcG5nIgogICBHSU1QOkFQST0iMi4wIgogICBHSU1QOlBsYXRmb3JtPSJMaW51eCIKICAgR0lNUDpUaW1lU3RhbXA9IjE2OTE4NjQ0MjcxMjYzODAiCiAgIEdJTVA6VmVyc2lvbj0iMi4xMC4zNCIKICAgdGlmZjpPcmllbnRhdGlvbj0iMSIKICAgeG1wOkNyZWF0b3JUb29sPSJHSU1QIDIuMTAiCiAgIHhtcDpNZXRhZGF0YURhdGU9IjIwMjM6MDg6MTJUMTU6MjA6MjctMDM6MDAiCiAgIHhtcDpNb2RpZnlEYXRlPSIyMDIzOjA4OjEyVDE1OjIwOjI3LTAzOjAwIj4KICAgPHhtcE1NOkhpc3Rvcnk+CiAgICA8cmRmOlNlcT4KICAgICA8cmRmOmxpCiAgICAgIHN0RXZ0OmFjdGlvbj0ic2F2ZWQiCiAgICAgIHN0RXZ0OmNoYW5nZWQ9Ii8iCiAgICAgIHN0RXZ0Omluc3RhbmNlSUQ9InhtcC5paWQ6Yjc4MzM5ODEtYWE5Yy00MDk2LThhMzgtZmZlYTRlNzIxYmI4IgogICAgICBzdEV2dDpzb2Z0d2FyZUFnZW50PSJHaW1wIDIuMTAgKExpbnV4KSIKICAgICAgc3RFdnQ6d2hlbj0iMjAyMy0wOC0xMlQxNToyMDoyNy0wMzowMCIvPgogICAgPC9yZGY6U2VxPgogICA8L3htcE1NOkhpc3Rvcnk+CiAgPC9yZGY6RGVzY3JpcHRpb24+CiA8L3JkZjpSREY+CjwveDp4bXBtZXRhPgogICAgICAgICAgICAgICAgICAgICAgICAgICAgICAgICAgICAgICAgICAgICAgICAgICAgICAgICAgICAgICAgICAgICAgICAgICAgICAgICAgICAgICAgICAgICAgICAgICAgCiAgICAgICAgICAgICAgICAgICAgICAgICAgICAgICAgICAgICAgICAgICAgICAgICAgICAgICAgICAgICAgICAgICAgICAgICAgICAgICAgICAgICAgICAgICAgICAgICAgICAKICAgICAgICAgICAgICAgICAgICAgICAgICAgICAgICAgICAgICAgICAgICAgICAgICAgICAgICAgICAgICAgICAgICAgICAgICAgICAgICAgICAgICAgICAgICAgICAgICAgIAogICAgICAgICAgICAgICAgICAgICAgICAgICAgICAgICAgICAgICAgICAgICAgICAgICAgICAgICAgICAgICAgICAgICAgICAgICAgICAgICAgICAgICAgICAgICAgICAgICAgCiAgICAgICAgICAgICAgICAgICAgICAgICAgICAgICAgICAgICAgICAgICAgICAgICAgICAgICAgICAgICAgICAgICAgICAgICAgICAgICAgICAgICAgICAgICAgICAgICAgICAKICAgICAgICAgICAgICAgICAgICAgICAgICAgICAgICAgICAgICAgICAgICAgICAgICAgICAgICAgICAgICAgICAgICAgICAgICAgICAgICAgICAgICAgICAgICAgICAgICAgIAogICAgICAgICAgICAgICAgICAgICAgICAgICAgICAgICAgICAgICAgICAgICAgICAgICAgICAgICAgICAgICAgICAgICAgICAgICAgICAgICAgICAgICAgICAgICAgICAgICAgCiAgICAgICAgICAgICAgICAgICAgICAgICAgICAgICAgICAgICAgICAgICAgICAgICAgICAgICAgICAgICAgICAgICAgICAgICAgICAgICAgICAgICAgICAgICAgICAgICAgICAKICAgICAgICAgICAgICAgICAgICAgICAgICAgICAgICAgICAgICAgICAgICAgICAgICAgICAgICAgICAgICAgICAgICAgICAgICAgICAgICAgICAgICAgICAgICAgICAgICAgIAogICAgICAgICAgICAgICAgICAgICAgICAgICAgICAgICAgICAgICAgICAgICAgICAgICAgICAgICAgICAgICAgICAgICAgICAgICAgICAgICAgICAgICAgICAgICAgICAgICAgCiAgICAgICAgICAgICAgICAgICAgICAgICAgICAgICAgICAgICAgICAgICAgICAgICAgICAgICAgICAgICAgICAgICAgICAgICAgICAgICAgICAgICAgICAgICAgICAgICAgICAKICAgICAgICAgICAgICAgICAgICAgICAgICAgICAgICAgICAgICAgICAgICAgICAgICAgICAgICAgICAgICAgICAgICAgICAgICAgICAgICAgICAgICAgICAgICAgICAgICAgIAogICAgICAgICAgICAgICAgICAgICAgICAgICAgICAgICAgICAgICAgICAgICAgICAgICAgICAgICAgICAgICAgICAgICAgICAgICAgICAgICAgICAgICAgICAgICAgICAgICAgCiAgICAgICAgICAgICAgICAgICAgICAgICAgICAgICAgICAgICAgICAgICAgICAgICAgICAgICAgICAgICAgICAgICAgICAgICAgICAgICAgICAgICAgICAgICAgICAgICAgICAKICAgICAgICAgICAgICAgICAgICAgICAgICAgICAgICAgICAgICAgICAgICAgICAgICAgICAgICAgICAgICAgICAgICAgICAgICAgICAgICAgICAgICAgICAgICAgICAgICAgIAogICAgICAgICAgICAgICAgICAgICAgICAgICAgICAgICAgICAgICAgICAgICAgICAgICAgICAgICAgICAgICAgICAgICAgICAgICAgICAgICAgICAgICAgICAgICAgICAgICAgCiAgICAgICAgICAgICAgICAgICAgICAgICAgICAgICAgICAgICAgICAgICAgICAgICAgICAgICAgICAgICAgICAgICAgICAgICAgICAgICAgICAgICAgICAgICAgICAgICAgICAKICAgICAgICAgICAgICAgICAgICAgICAgICAgICAgICAgICAgICAgICAgICAgICAgICAgICAgICAgICAgICAgICAgICAgICAgICAgICAgICAgICAgICAgICAgICAgICAgICAgIAogICAgICAgICAgICAgICAgICAgICAgICAgICAgICAgICAgICAgICAgICAgICAgICAgICAgICAgICAgICAgICAgICAgICAgICAgICAgICAgICAgICAgICAgICAgICAgICAgICAgCiAgICAgICAgICAgICAgICAgICAgICAgICAgICAgICAgICAgICAgICAgICAgICAgICAgICAgICAgICAgICAgICAgICAgICAgICAgICAgICAgICAgICAgICAgICAgICAgICAgICAKICAgICAgICAgICAgICAgICAgICAgICAgICAgCjw/eHBhY2tldCBlbmQ9InciPz55731XAAAABmJLR0QA/wD/AP+gvaeTAAAACXBIWXMAAAsTAAALEwEAmpwYAAAAB3RJTUUH5wgMEhQbBlocRAAAAN9JREFUOMutkrHJhjAYhM8fIZU4QXACm7SCA9g4hAu4gKWu4A52NtZuIBa2SkghKIIIVgbfv3AByefT38NxnEVEhB/5wwfYAFAUBaSUyPMc+75jGIZXYc45hBCPRCmF67qwriuklKjr+pUkCAIIIQAionmeqe97MsX6bNht2zCOo7HEIiJK0xTHcSDLMizLgrZtX4V930cURU8Tx3HAGINt2+ZNtNY4zxOu65pLPhm26zo0TYP7vs0fW5YltNbwPA9KKVRV9fpsSZI8kjAMMU0TOOdgjCGO49e3/3aTX/kHOqSlGyrkE5MAAAAASUVORK5CYII=) tab to the left to browse by section."
      ],
      "metadata": {
        "id": "yeqlUsEC6lqA"
      }
    }
  ]
}