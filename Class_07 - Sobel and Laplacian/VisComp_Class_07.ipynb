{
  "cells": [
    {
      "cell_type": "markdown",
      "metadata": {
        "id": "ldormuK39mU1"
      },
      "source": [
        "# Class 7: Discrete Derivatives as Convolutional Filters"
      ]
    },
    {
      "cell_type": "markdown",
      "metadata": {
        "id": "Ot_LD8I8AOQ6"
      },
      "source": [
        "## Preliminaries"
      ]
    },
    {
      "cell_type": "markdown",
      "metadata": {
        "id": "Ek7agefuszoy"
      },
      "source": [
        "Run the cell below to download the course library and class resources."
      ]
    },
    {
      "cell_type": "code",
      "execution_count": null,
      "metadata": {
        "colab": {
          "base_uri": "https://localhost:8080/"
        },
        "id": "yZJ4BWWZszhq",
        "outputId": "63f329e9-b7a3-48ce-dfab-bc69644daa10"
      },
      "outputs": [],
      "source": [
        "import gdown\n",
        "\n",
        "gdown.download(id='1SzvuBYIZ407c9eOChXD48NG94v7azJby')\n",
        "gdown.download(id='1K8nNMjlhWPTgL4OyozYCLaduGmvx1WO-')\n",
        "gdown.download(id='1_GLvNhIeYdN3kjyfO7jPSw6gocI9547c')\n",
        "\n",
        "!unzip -o '06.zip'\n",
        "!rm '06.zip'\n",
        "\n",
        "!unzip -o '07.zip'\n",
        "!rm '07.zip'"
      ]
    },
    {
      "cell_type": "markdown",
      "metadata": {
        "id": "qLYdrANx9t0n"
      },
      "source": [
        "Run the cell below to import the class modules.\n",
        "\n",
        "If you get import warnings, try using **`Ctrl+M .`** to restart the kernel. *(notice there is a dot there)*"
      ]
    },
    {
      "cell_type": "code",
      "execution_count": null,
      "metadata": {
        "id": "eb5nYmlg48g3"
      },
      "outputs": [],
      "source": [
        "import numpy as np\n",
        "import cv2 as cv\n",
        "\n",
        "from scipy import signal\n",
        "from sdx import *"
      ]
    },
    {
      "cell_type": "markdown",
      "metadata": {
        "id": "tcA8f3ALQzOl"
      },
      "source": [
        "## Choosing, loading, and displaying an image"
      ]
    },
    {
      "cell_type": "markdown",
      "metadata": {
        "id": "TNfK1Ku5nHUE"
      },
      "source": [
        "Like in Class 6, the options of source are: `smash`, `atletica`, `consulting`, `insper`, `informatica`, and `harvard`.\n",
        "\n"
      ]
    },
    {
      "cell_type": "code",
      "execution_count": null,
      "metadata": {
        "id": "5jZx0Jb_mtKE"
      },
      "outputs": [],
      "source": [
        "SOURCE = 'insper'"
      ]
    },
    {
      "cell_type": "markdown",
      "metadata": {
        "id": "3ZZz88iRG8Fh"
      },
      "source": [
        "We will go back to the noise severities at the end of this handout."
      ]
    },
    {
      "cell_type": "code",
      "execution_count": null,
      "metadata": {
        "colab": {
          "base_uri": "https://localhost:8080/",
          "height": 267
        },
        "id": "7X0Rn7A77Jul",
        "outputId": "69334ede-daef-4b7e-de70-f882af773da5"
      },
      "outputs": [],
      "source": [
        "input = cv_grayread(f'{SOURCE}.png', asfloat=True)\n",
        "\n",
        "cv_imshow(input)"
      ]
    },
    {
      "cell_type": "markdown",
      "metadata": {
        "id": "phc8xpi_HEu3"
      },
      "source": [
        "## Convenience functions"
      ]
    },
    {
      "cell_type": "markdown",
      "metadata": {
        "id": "oVC5-9PmHHtJ"
      },
      "source": [
        "Thanks to the `signal` module of the SciPy library, we can have an easy and fast implementation of the 2D convolution we implemented in Class 6. The `mode='valid'` parameter is to specifically consider the approach of ignoring the borders."
      ]
    },
    {
      "cell_type": "code",
      "execution_count": null,
      "metadata": {
        "id": "IK2mGav-67Il"
      },
      "outputs": [],
      "source": [
        "def convolve(input, kernel):\n",
        "    return signal.convolve2d(input, kernel, mode='valid')"
      ]
    },
    {
      "cell_type": "markdown",
      "metadata": {
        "id": "9W-2kelQHeaP"
      },
      "source": [
        "For convenience, let's also define a normalization function, since the outputs of this notebook will often be outside the `[0, 255]` bounds."
      ]
    },
    {
      "cell_type": "code",
      "execution_count": null,
      "metadata": {
        "id": "8irMdAzV8kOH"
      },
      "outputs": [],
      "source": [
        "def normalize(output):\n",
        "    min = output.min()\n",
        "    max = output.max()\n",
        "    return 255 * (output - min) / (max - min)"
      ]
    },
    {
      "cell_type": "markdown",
      "metadata": {
        "id": "NUjaYuIrINRM"
      },
      "source": [
        "## Sobel filters"
      ]
    },
    {
      "cell_type": "markdown",
      "metadata": {
        "id": "GYwMb9OFMi_D"
      },
      "source": [
        "The Sobel filters calculate the image gradient as the composition of two convolutions."
      ]
    },
    {
      "cell_type": "markdown",
      "metadata": {
        "id": "YXW7rSc2MwrZ"
      },
      "source": [
        "The first convolution approximates the discrete derivative for the horizontal axis."
      ]
    },
    {
      "cell_type": "code",
      "execution_count": null,
      "metadata": {
        "id": "hcpU_6yB7rM8"
      },
      "outputs": [],
      "source": [
        "Gx = np.array([\n",
        "    [-1,  0,  1],\n",
        "    [-2,  0,  2],\n",
        "    [-1,  0,  1],\n",
        "])"
      ]
    },
    {
      "cell_type": "code",
      "execution_count": null,
      "metadata": {
        "colab": {
          "base_uri": "https://localhost:8080/",
          "height": 513
        },
        "id": "aUPyfULTIQq2",
        "outputId": "1d04e908-85d3-4259-ea37-86c587f5f60e"
      },
      "outputs": [],
      "source": [
        "gx = convolve(input, Gx)\n",
        "\n",
        "cv_imshow(normalize(gx))\n",
        "cv_imshow(normalize(np.abs(gx)))"
      ]
    },
    {
      "cell_type": "markdown",
      "metadata": {
        "id": "v81sPUMhM_Nq"
      },
      "source": [
        "The second convolution approximates the discrete derivative for the vertical axis."
      ]
    },
    {
      "cell_type": "code",
      "execution_count": null,
      "metadata": {
        "id": "Mq-2yfux7rFT"
      },
      "outputs": [],
      "source": [
        "Gy = np.array([\n",
        "    [-1, -2, -1],\n",
        "    [ 0,  0,  0],\n",
        "    [ 1,  2,  1],\n",
        "])"
      ]
    },
    {
      "cell_type": "code",
      "execution_count": null,
      "metadata": {
        "colab": {
          "base_uri": "https://localhost:8080/",
          "height": 513
        },
        "id": "qwmqpz5vIRz9",
        "outputId": "daf515dc-8c0a-4f9f-d349-d86dd6d1ce42"
      },
      "outputs": [],
      "source": [
        "gy = convolve(input, Gy)\n",
        "\n",
        "cv_imshow(normalize(gy))\n",
        "cv_imshow(normalize(np.abs(gy)))"
      ]
    },
    {
      "cell_type": "markdown",
      "metadata": {
        "id": "ZZXh7Z2oNPMz"
      },
      "source": [
        "Considering the two results as a vector, the intensity can be taken as the module of such vector."
      ]
    },
    {
      "cell_type": "code",
      "execution_count": null,
      "metadata": {
        "colab": {
          "base_uri": "https://localhost:8080/",
          "height": 265
        },
        "id": "gfNUINmSJj8N",
        "outputId": "469cc2d1-ae1f-4144-e34c-21be7751b43a"
      },
      "outputs": [],
      "source": [
        "g = np.sqrt(gx ** 2 + gy ** 2)\n",
        "\n",
        "cv_imshow(normalize(g))"
      ]
    },
    {
      "cell_type": "markdown",
      "metadata": {
        "id": "B-6Y-5VMJjx5"
      },
      "source": [
        "## Laplacian filter"
      ]
    },
    {
      "cell_type": "markdown",
      "metadata": {
        "id": "BnLsnvB9NhkL"
      },
      "source": [
        "The second derivative can be approximated by a convolution with the kernel below.\n",
        "\n",
        "Notice that the result is much more strict than what we got with the Sobel filters."
      ]
    },
    {
      "cell_type": "code",
      "execution_count": null,
      "metadata": {
        "id": "w5jAAiXB7q9T"
      },
      "outputs": [],
      "source": [
        "L = np.array([\n",
        "    [ 0,  1,  0],\n",
        "    [ 1, -4,  1],\n",
        "    [ 0,  1,  0],\n",
        "])"
      ]
    },
    {
      "cell_type": "code",
      "execution_count": null,
      "metadata": {
        "colab": {
          "base_uri": "https://localhost:8080/",
          "height": 265
        },
        "id": "r2YAq9aQ7Ja8",
        "outputId": "f4bb31b0-bd3b-4f58-fc5c-95d3b52a35fe"
      },
      "outputs": [],
      "source": [
        "l = convolve(input, L)\n",
        "\n",
        "cv_imshow(normalize(np.abs(l)))"
      ]
    },
    {
      "cell_type": "markdown",
      "metadata": {
        "id": "ZQz_i2g4KV2o"
      },
      "source": [
        "## Bringing back the issue of noise"
      ]
    },
    {
      "cell_type": "markdown",
      "metadata": {
        "id": "1ANs74aNN2J7"
      },
      "source": [
        "When we bring back the issue of noise, an obvious problem is noticed: noises are somewhat sudden variations. Therefore, they give strong responses to an edge detector."
      ]
    },
    {
      "cell_type": "code",
      "execution_count": null,
      "metadata": {
        "id": "ve-T7zIhKNOj"
      },
      "outputs": [],
      "source": [
        "SEVERITY = 8"
      ]
    },
    {
      "cell_type": "code",
      "execution_count": null,
      "metadata": {
        "colab": {
          "base_uri": "https://localhost:8080/",
          "height": 267
        },
        "id": "KdzUPqz6KI1N",
        "outputId": "d8f8d09c-35ea-468f-9a36-45d9e31fab84"
      },
      "outputs": [],
      "source": [
        "noise_input = cv_grayread(f'{SOURCE}-{SEVERITY}.png', asfloat=True)\n",
        "\n",
        "cv_imshow(noise_input)"
      ]
    },
    {
      "cell_type": "code",
      "execution_count": null,
      "metadata": {
        "colab": {
          "base_uri": "https://localhost:8080/",
          "height": 265
        },
        "id": "Fo3vkHEFKfU0",
        "outputId": "aa9213be-9988-4f55-ad1b-551b912f0e3f"
      },
      "outputs": [],
      "source": [
        "nl = convolve(noise_input, L)\n",
        "\n",
        "cv_imshow(normalize(np.abs(nl)))"
      ]
    },
    {
      "cell_type": "markdown",
      "metadata": {
        "id": "omC-AULmKAMN"
      },
      "source": [
        "This can be mitigated, however, by smoothing the image before detecting the edges. The `signal` module also provides a fast implementation of the Gaussian kernel of Class 6."
      ]
    },
    {
      "cell_type": "code",
      "execution_count": null,
      "metadata": {
        "id": "x86wyLOB4Q01"
      },
      "outputs": [],
      "source": [
        "def gaussian_kernel(n, sigma, normal=True):\n",
        "    gaussian1d = signal.windows.gaussian(n, sigma)\n",
        "    gaussian2d = np.outer(gaussian1d, gaussian1d) / (2 * np.pi * sigma ** 2)\n",
        "    if normal:\n",
        "        gaussian2d /= gaussian2d.sum()\n",
        "    return gaussian2d"
      ]
    },
    {
      "cell_type": "code",
      "execution_count": null,
      "metadata": {
        "colab": {
          "base_uri": "https://localhost:8080/",
          "height": 263
        },
        "id": "Uvxgg9jk4Qtu",
        "outputId": "64a190b1-f54b-463c-c015-0ba639412ebc"
      },
      "outputs": [],
      "source": [
        "s = convolve(noise_input, gaussian_kernel(3, 1))\n",
        "\n",
        "sl = convolve(s, L)\n",
        "\n",
        "cv_imshow(normalize(np.abs(sl)))"
      ]
    },
    {
      "cell_type": "markdown",
      "metadata": {
        "id": "EZM-YetEPVTB"
      },
      "source": [
        "## Challenge"
      ]
    },
    {
      "cell_type": "markdown",
      "metadata": {
        "id": "3EF-h_8GPfuh"
      },
      "source": [
        "Try to obtain the result above with **a single convolution**.\n",
        "\n",
        "In other words, try to build a \"super kernel\" that implements both operations at once."
      ]
    },
    {
      "cell_type": "code",
      "execution_count": null,
      "metadata": {
        "id": "VjPSY603MC-B"
      },
      "outputs": [],
      "source": [
        "LoG_k = np.array([\n",
        "    [ 0,  0, -1, 0,  0],\n",
        "    [ 0, -1, -2, -1, 0],\n",
        "    [-1, -2, 16, -2, -1],\n",
        "    [ 0, -1, -2, -1, 0],\n",
        "    [ 0,  0, -1, 0,  0],\n",
        "])\n",
        "\n",
        "#https://homepages.inf.ed.ac.uk/rbf/HIPR2/log.htm\n",
        "#https://dsp.stackexchange.com/questions/56034/python-calculating-laplacian-of-gaussian-kernel-matrix"
      ]
    },
    {
      "cell_type": "code",
      "execution_count": null,
      "metadata": {
        "colab": {
          "base_uri": "https://localhost:8080/",
          "height": 263
        },
        "id": "fkY_r4Psxanp",
        "outputId": "b28e7fc3-8562-4fbc-9d3a-1b48f0bd636e"
      },
      "outputs": [],
      "source": [
        "noise_output = convolve(noise_input.copy(), LoG_k)\n",
        "\n",
        "cv_imshow(normalize(np.abs(noise_output)))"
      ]
    },
    {
      "cell_type": "markdown",
      "metadata": {
        "id": "yeqlUsEC6lqA"
      },
      "source": [
        "You can click on the ![toc.png](data:image/png;base64,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) tab to the left to browse by section."
      ]
    }
  ],
  "metadata": {
    "colab": {
      "provenance": [],
      "toc_visible": true
    },
    "kernelspec": {
      "display_name": "Python 3",
      "name": "python3"
    },
    "language_info": {
      "name": "python"
    }
  },
  "nbformat": 4,
  "nbformat_minor": 0
}
